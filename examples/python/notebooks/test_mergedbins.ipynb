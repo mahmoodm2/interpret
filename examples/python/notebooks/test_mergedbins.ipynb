{
 "metadata": {
  "language_info": {
   "codemirror_mode": {
    "name": "ipython",
    "version": 3
   },
   "file_extension": ".py",
   "mimetype": "text/x-python",
   "name": "python",
   "nbconvert_exporter": "python",
   "pygments_lexer": "ipython3",
   "version": "3.8.3-final"
  },
  "orig_nbformat": 2,
  "kernelspec": {
   "name": "python3",
   "display_name": "Python 3",
   "language": "python"
  }
 },
 "nbformat": 4,
 "nbformat_minor": 2,
 "cells": [
  {
   "cell_type": "code",
   "execution_count": 1,
   "metadata": {},
   "outputs": [],
   "source": [
    "import numpy as np"
   ]
  },
  {
   "cell_type": "code",
   "execution_count": 50,
   "metadata": {},
   "outputs": [
    {
     "output_type": "stream",
     "name": "stdout",
     "text": [
      "[1, 20, 33, 50, 66, 90, 100]\n"
     ]
    },
    {
     "output_type": "execute_result",
     "data": {
      "text/plain": [
       "[array([0, 1, 1, 1, 2, 2, 2, 3], dtype=int64),\n",
       " array([0, 0, 1, 2, 3, 4, 5, 5], dtype=int64)]"
      ]
     },
     "metadata": {},
     "execution_count": 50
    }
   ],
   "source": [
    "m1 = [5, 4, +1 , -1, 4 ]\n",
    "bc1=[2,1,1,1,1]\n",
    "edges1 =[1,50,100]\n",
    "\n",
    "# m2 = [0,+2, -2, +2 , +3 , 9]\n",
    "# edges2 =[20,33,66,90 , 120 ]\n",
    "\n",
    "m2 = [6,4, +2, -2, +2 , +3, 7 ]\n",
    "bc2=[1,2,2,2,2,2,2]\n",
    "# edges2 =[1,33,50,66,100  ]\n",
    "edges2 =[20,33,50,66,90  ]\n",
    "\n",
    "merged_edges = sorted(set().union(*[set(edges1) , set(edges2)]))\n",
    "print(merged_edges)\n",
    "\n",
    "models =[ m1 , m2]\n",
    "#  i if edges1[i-1] < merged_edges <= edges1[i]\n",
    "bin_index = [ np.searchsorted( edges1,  merged_edges + [np.inf]  ) , np.searchsorted(edges2,  merged_edges + [np.inf])]\n",
    "\n",
    "# model_bin_edges = model.preprocessor_.col_bin_edges_[index]\n",
    "# ne = np.searchsorted(model_bin_edges, merged_bin_edges + [np.inf])\n",
    "bin_index \n",
    "\n",
    "# [1, 20, 33, 50, 66, 90, 100]\n",
    "# [array([0, 1, 1, 1, 2, 2, 2, 3], dtype=int64),\n",
    "#  array([0, 0, 1, 2, 2, 3, 4, 4], dtype=int64)]"
   ]
  },
  {
   "cell_type": "code",
   "execution_count": 53,
   "metadata": {},
   "outputs": [
    {
     "output_type": "stream",
     "name": "stdout",
     "text": [
      "Merged Edges =  [1, 20, 33, 50, 66, 90, 100]\nm1= [5, 4, 1, -1, 4]\nm2= [6, 4, 2, -2, 2, 3, 7]\nbix= [0, 1, 2, 2, 2, 3, 3, 3, 4]\nbix= [0, 1, 1, 2, 3, 4, 5, 6, 6]\n[[5, 4, 1, 1, 1, -1, -1, -1, 4], [6, 4, 4, 2, -2, 2, 3, 7, 7]]\n[[2, 1, 1, 1, 1, 1, 1, 1, 1], [1, 2, 2, 2, 2, 2, 2, 2, 2]]\nMerged Model=  [ 5.33333333  4.          3.          1.66666667 -1.          1.\n  1.66666667  4.33333333  6.        ]\n"
     ]
    }
   ],
   "source": [
    "r =[]\n",
    "w=[]\n",
    "wbc =[bc1, bc2]\n",
    "# and x <=len(mvalues)\n",
    "print(\"Merged Edges = \" , merged_edges)\n",
    "print('m1=', m1)\n",
    "print('m2=' , m2)\n",
    "for idx, m in enumerate(models):\n",
    "    mvalues = m #[1:] \n",
    "    wvalues =wbc[idx]#[1:]   \n",
    "    # r.append([ mvalues[x] if x >= 0 and x <len(mvalues) else np.nan for x in bin_index[idx] ])bin\n",
    "    # bix = [0] + ( [ x+1 for x in bin_index[idx] ])\n",
    "    bix = [0] + ( [ x+1 for x in bin_index[idx] ])\n",
    "    print('bix=', bix)\n",
    "    r.append([ mvalues[x] for x in bix ])\n",
    "    w.append([ wvalues[x] for x in bix ])\n",
    "    # new_model_ = [ mvalues[x-1] if x > 0 and x <=len(mvalues) else 0. for x in bin_indexs[1:] ]\n",
    "\n",
    "print(r)\n",
    "print(w)\n",
    "meanr = np.average(r, axis=0 , weights=w)\n",
    "# averaged_model = np.average(log_odds_tensors, axis=0 , weights=bin_weights )\n",
    "#             m\n",
    "\n",
    "print(\"Merged Model= \" , meanr)\n",
    "# Merged Model=  [1.   1.5 -0.5 -1.5  0.5  1.   4.   7. ]\n",
    "\n",
    "# [[1, 1, 1, -1, -1, -1, nan], [nan, 2, -2, -2, 2, 3, 3]]\n",
    "# Merged Edges =  [1, 20, 33, 50, 66, 90, 100]\n",
    "# Merged Model=  [ 1.   1.5 -0.5 -1.5  0.5  1.   3. ]"
   ]
  },
  {
   "cell_type": "code",
   "execution_count": 35,
   "metadata": {},
   "outputs": [
    {
     "output_type": "execute_result",
     "data": {
      "text/plain": [
       "[6, 11.5, 17.0, 40, 27.5, 33.0]"
      ]
     },
     "metadata": {},
     "execution_count": 35
    }
   ],
   "source": [
    "col_map1={' ?': 1, 'Cambodia': 2, 'Canada': 3, 'Hungary': 4, 'India': 5}\n",
    "model1 = [ 0, 2,3,4,5,6]\n",
    "\n",
    "col_map2={' ?': 1, 'Cambodia': 2, 'Canada': 3, 'Haiti':4 ,'Hungary': 5, 'India': 6}\n",
    "model2 = [ 0,10,20,30,40,50,60]\n",
    "\n",
    "[ 6,23/2 ,34/2, 40 , 55/2 , 66/2]\n"
   ]
  },
  {
   "cell_type": "code",
   "execution_count": 27,
   "metadata": {},
   "outputs": [
    {
     "output_type": "execute_result",
     "data": {
      "text/plain": [
       "[' ?', 'Cambodia', 'Canada', 'Haiti', 'Hungary', 'India']"
      ]
     },
     "metadata": {},
     "execution_count": 27
    }
   ],
   "source": [
    "# merged_cols = sorted(set().union(*[set(col_map1.keys()) , set(col_map2.keys())]))\n",
    "merged_cols = sorted(set().union( list(col_map1.keys()) + list(col_map2.keys()) ))\n",
    "merged_cols\n"
   ]
  },
  {
   "cell_type": "code",
   "execution_count": 8,
   "metadata": {},
   "outputs": [],
   "source": [
    "import numpy as np"
   ]
  },
  {
   "cell_type": "code",
   "execution_count": 28,
   "metadata": {},
   "outputs": [],
   "source": [
    "models= [model1 , model2]\n",
    "col_maps = [col_map1 , col_map2]"
   ]
  },
  {
   "cell_type": "code",
   "execution_count": 34,
   "metadata": {},
   "outputs": [
    {
     "output_type": "stream",
     "name": "stdout",
     "text": [
      "[[2, 3, 4, nan, 5, 6], [10, 20, 30, 40, 50, 60]]\n"
     ]
    },
    {
     "output_type": "execute_result",
     "data": {
      "text/plain": [
       "array([ 6. , 11.5, 17. , 40. , 27.5, 33. ])"
      ]
     },
     "metadata": {},
     "execution_count": 34
    }
   ],
   "source": [
    "r =[]\n",
    "for idx, col_map in enumerate(col_maps):\n",
    "    mvalues = models[idx][1:]   \n",
    "    mask = [ col_map.get(col, None ) for col in merged_cols]\n",
    "    nmodel = [ models[idx][i] if i else np.nan for i in mask]\n",
    "\n",
    "    r.append( nmodel)\n",
    "\n",
    "\n",
    "\n",
    "# r.append( [ col_map1.get(col, np.nan) for col in merged_cols])\n",
    "print(r)\n",
    "rmean = np.nanmean(np.array(r), axis=0)\n",
    "rmean"
   ]
  },
  {
   "cell_type": "code",
   "execution_count": 31,
   "metadata": {},
   "outputs": [
    {
     "output_type": "execute_result",
     "data": {
      "text/plain": [
       "[2, 3, 4, nan, 5, 6]"
      ]
     },
     "metadata": {},
     "execution_count": 31
    }
   ],
   "source": [
    "mask = [1, 2, 3, None, 4, 5]\n",
    "nmodel= [ model1[i] if i else np.nan for i in mask]\n",
    "nmodel"
   ]
  },
  {
   "cell_type": "code",
   "execution_count": 42,
   "metadata": {},
   "outputs": [
    {
     "output_type": "execute_result",
     "data": {
      "text/plain": [
       "array([0., 1., 2.])"
      ]
     },
     "metadata": {},
     "execution_count": 42
    }
   ],
   "source": [
    "a = np.array([1,2])\n",
    "np.append(0., a)"
   ]
  }
 ]
}