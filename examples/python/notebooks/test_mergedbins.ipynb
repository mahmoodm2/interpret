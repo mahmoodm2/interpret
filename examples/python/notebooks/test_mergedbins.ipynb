{
 "metadata": {
  "language_info": {
   "codemirror_mode": {
    "name": "ipython",
    "version": 3
   },
   "file_extension": ".py",
   "mimetype": "text/x-python",
   "name": "python",
   "nbconvert_exporter": "python",
   "pygments_lexer": "ipython3",
   "version": "3.7.9-final"
  },
  "orig_nbformat": 2,
  "kernelspec": {
   "name": "python3",
   "display_name": "Python 3",
   "language": "python"
  }
 },
 "nbformat": 4,
 "nbformat_minor": 2,
 "cells": [
  {
   "cell_type": "code",
   "execution_count": 1,
   "metadata": {},
   "outputs": [],
   "source": [
    "import numpy as np"
   ]
  },
  {
   "cell_type": "code",
   "execution_count": 19,
   "metadata": {},
   "outputs": [
    {
     "output_type": "stream",
     "name": "stdout",
     "text": [
      "[1, 20, 33, 50, 66, 90, 100]\n"
     ]
    },
    {
     "output_type": "execute_result",
     "data": {
      "text/plain": [
       "[array([0, 1, 1, 1, 2, 2, 2, 3], dtype=int64),\n",
       " array([0, 0, 1, 2, 2, 3, 4, 4], dtype=int64)]"
      ]
     },
     "metadata": {},
     "execution_count": 19
    }
   ],
   "source": [
    "m1 = [0, +1 , -1 ]\n",
    "edges1 =[1,50,100]\n",
    "\n",
    "# m2 = [0,+2, -2, +2 , +3 , 9]\n",
    "# edges2 =[20,33,66,90 , 120 ]\n",
    "\n",
    "m2 = [0,+2, -2, +2 , +3 ]\n",
    "edges2 =[20,33,66,90  ]\n",
    "\n",
    "merged_edges = sorted(set().union(*[set(edges1) , set(edges2)]))\n",
    "print(merged_edges)\n",
    "# merged_bin_edges = sorted(set().union(*[ set(model.preprocessor_.col_bin_edges_[index]) for model in models]))\n",
    "\n",
    "\n",
    "# ne1 = np.searchsorted(edges1, merged_edges)\n",
    "# ne2 = np.searchsorted(edges2, merged_edges)\n",
    "\n",
    "models =[ m1 , m2]\n",
    "#  i if edges1[i-1] < merged_edges <= edges1[i]\n",
    "ne = [ np.searchsorted( edges1,  merged_edges + [np.inf] ) , np.searchsorted(edges2,  merged_edges + [np.inf])]\n",
    "\n",
    "# model_bin_edges = model.preprocessor_.col_bin_edges_[index]\n",
    "# ne = np.searchsorted(model_bin_edges, merged_bin_edges + [np.inf])\n",
    "ne"
   ]
  },
  {
   "cell_type": "code",
   "execution_count": 20,
   "metadata": {},
   "outputs": [
    {
     "output_type": "stream",
     "name": "stdout",
     "text": [
      "[[1, 1, 1, -1, -1, -1, nan], [nan, 2, -2, -2, 2, 3, 3]]\nMerged Edges =  [1, 20, 33, 50, 66, 90, 100]\nMerged Model=  [ 1.   1.5 -0.5 -1.5  0.5  1.   3. ]\n"
     ]
    }
   ],
   "source": [
    "r =[]\n",
    "# and x <=len(mvalues)\n",
    "for idx, m in enumerate(models):\n",
    "    mvalues = m[1:]    \n",
    "    r.append([ mvalues[x-1] if x > 0 and x <=len(mvalues) else np.nan for x in ne[idx][1:] ])\n",
    "\n",
    "print(r)\n",
    "meanr = np.nanmean(r, axis=0)\n",
    "print(\"Merged Edges = \" , merged_edges)\n",
    "print(\"Merged Model= \" , meanr)\n",
    "# Merged Model=  [1.   1.5 -0.5 -1.5  0.5  1.   4.   7. ]"
   ]
  },
  {
   "cell_type": "code",
   "execution_count": 35,
   "metadata": {},
   "outputs": [
    {
     "output_type": "execute_result",
     "data": {
      "text/plain": [
       "[6, 11.5, 17.0, 40, 27.5, 33.0]"
      ]
     },
     "metadata": {},
     "execution_count": 35
    }
   ],
   "source": [
    "col_map1={' ?': 1, 'Cambodia': 2, 'Canada': 3, 'Hungary': 4, 'India': 5}\n",
    "model1 = [ 0, 2,3,4,5,6]\n",
    "\n",
    "col_map2={' ?': 1, 'Cambodia': 2, 'Canada': 3, 'Haiti':4 ,'Hungary': 5, 'India': 6}\n",
    "model2 = [ 0,10,20,30,40,50,60]\n",
    "\n",
    "[ 6,23/2 ,34/2, 40 , 55/2 , 66/2]\n"
   ]
  },
  {
   "cell_type": "code",
   "execution_count": 27,
   "metadata": {},
   "outputs": [
    {
     "output_type": "execute_result",
     "data": {
      "text/plain": [
       "[' ?', 'Cambodia', 'Canada', 'Haiti', 'Hungary', 'India']"
      ]
     },
     "metadata": {},
     "execution_count": 27
    }
   ],
   "source": [
    "# merged_cols = sorted(set().union(*[set(col_map1.keys()) , set(col_map2.keys())]))\n",
    "merged_cols = sorted(set().union( list(col_map1.keys()) + list(col_map2.keys()) ))\n",
    "merged_cols\n"
   ]
  },
  {
   "cell_type": "code",
   "execution_count": 8,
   "metadata": {},
   "outputs": [],
   "source": [
    "import numpy as np"
   ]
  },
  {
   "cell_type": "code",
   "execution_count": 28,
   "metadata": {},
   "outputs": [],
   "source": [
    "models= [model1 , model2]\n",
    "col_maps = [col_map1 , col_map2]"
   ]
  },
  {
   "cell_type": "code",
   "execution_count": 34,
   "metadata": {},
   "outputs": [
    {
     "output_type": "stream",
     "name": "stdout",
     "text": [
      "[[2, 3, 4, nan, 5, 6], [10, 20, 30, 40, 50, 60]]\n"
     ]
    },
    {
     "output_type": "execute_result",
     "data": {
      "text/plain": [
       "array([ 6. , 11.5, 17. , 40. , 27.5, 33. ])"
      ]
     },
     "metadata": {},
     "execution_count": 34
    }
   ],
   "source": [
    "r =[]\n",
    "for idx, col_map in enumerate(col_maps):\n",
    "    mvalues = models[idx][1:]   \n",
    "    mask = [ col_map.get(col, None ) for col in merged_cols]\n",
    "    nmodel = [ models[idx][i] if i else np.nan for i in mask]\n",
    "\n",
    "    r.append( nmodel)\n",
    "\n",
    "\n",
    "\n",
    "# r.append( [ col_map1.get(col, np.nan) for col in merged_cols])\n",
    "print(r)\n",
    "rmean = np.nanmean(np.array(r), axis=0)\n",
    "rmean"
   ]
  },
  {
   "cell_type": "code",
   "execution_count": 31,
   "metadata": {},
   "outputs": [
    {
     "output_type": "execute_result",
     "data": {
      "text/plain": [
       "[2, 3, 4, nan, 5, 6]"
      ]
     },
     "metadata": {},
     "execution_count": 31
    }
   ],
   "source": [
    "mask = [1, 2, 3, None, 4, 5]\n",
    "nmodel= [ model1[i] if i else np.nan for i in mask]\n",
    "nmodel"
   ]
  },
  {
   "cell_type": "code",
   "execution_count": 42,
   "metadata": {},
   "outputs": [
    {
     "output_type": "execute_result",
     "data": {
      "text/plain": [
       "array([0., 1., 2.])"
      ]
     },
     "metadata": {},
     "execution_count": 42
    }
   ],
   "source": [
    "a = np.array([1,2])\n",
    "np.append(0., a)"
   ]
  }
 ]
}