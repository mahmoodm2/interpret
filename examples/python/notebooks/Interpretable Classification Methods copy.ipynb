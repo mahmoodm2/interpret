{
 "cells": [
  {
   "cell_type": "markdown",
   "metadata": {},
   "source": [
    "## Setup a classification experiment"
   ]
  },
  {
   "cell_type": "code",
   "execution_count": 1,
   "metadata": {},
   "outputs": [],
   "source": [
    "import pickle\n",
    "import numpy as np"
   ]
  },
  {
   "cell_type": "code",
   "execution_count": 2,
   "metadata": {},
   "outputs": [
    {
     "output_type": "stream",
     "name": "stdout",
     "text": [
      "Model 1 Vaues: [0, 1, -1, 5] \nModel 1 Edges: [1, 50, 100]\nModel 2 Vaues: [0, 1, -1, 5] \nModel 2 Edges: [1, 50, 100]\n\nMerged Edges = \n [1, 20, 33, 50, 66, 90, 100, 120]\nEdge Index= \n[0 1 1 1 2 2 2 3 3]\n[0 0 1 2 2 3 4 4 5]\nNew Model Values: \n[1, 1, 1, -1, -1, -1, 5, 5]\n[0, 2, -2, -2, 2, 3, 3, 9]\nMerged models values= \n [ 1.          1.90909091 -1.85714286 -1.90909091  1.8125      2.80952381\n  3.13953488  8.77358491]\n"
     ]
    }
   ],
   "source": [
    "m1 = [0, +1 , -1 , 5]\n",
    "w1= [1,2,3]\n",
    "edges1 =[1,50,100]\n",
    "print(f\"Model 1 Vaues: {m1} \\nModel 1 Edges: {edges1}\")\n",
    "\n",
    "m2 = [0,+2, -2, +2 , +3 , 9]\n",
    "w2 =[10,20,30,40,50]\n",
    "edges2 =[20,33,66,90 , 120]\n",
    "print(f\"Model 2 Vaues: {m1} \\nModel 2 Edges: {edges1}\")\n",
    "\n",
    "merged_edges = sorted(set().union(*[set(edges1) , set(edges2)]))\n",
    "print(\"\\nMerged Edges = \\n\" , merged_edges)\n",
    "\n",
    "models =[ m1 , m2]\n",
    "weights= [w1,w2]\n",
    "\n",
    "ne = [ np.searchsorted( edges1,  merged_edges + [np.inf] ) , np.searchsorted(edges2,  merged_edges + [np.inf])]\n",
    "print('Edge Index= ')\n",
    "for v in ne: print(v)\n",
    "\n",
    "\n",
    "bv =[]\n",
    "wv=[]\n",
    "print('New Model Values: ')\n",
    "for idx, m in enumerate(models):\n",
    "    mvalues = m[1:]    \n",
    "    new_val = [ mvalues[x-1] if x > 0 and x <=len(mvalues) else 0 for x in ne[idx][1:] ]\n",
    "    print(new_val)\n",
    "    bv.append( new_val)\n",
    "    wv.append([ weights[idx][x-1] if x > 0 and x <=len(mvalues) else 0 for x in ne[idx][1:] ])\n",
    "\n",
    "mbv = np.average(bv, axis=0, weights= wv)# np.nanmean(bv, axis=0)\n",
    "\n",
    "print(\"Merged models values= \\n\" , mbv)\n",
    "\n",
    "# Merged Model=  [1.   1.5 -0.5 -1.5  0.5  1.   4.   7. ]"
   ]
  },
  {
   "cell_type": "code",
   "execution_count": 3,
   "metadata": {},
   "outputs": [],
   "source": [
    "import pandas as pd\n",
    "from sklearn.model_selection import train_test_split\n",
    "from interpret.glassbox import ExplainableBoostingClassifier, LogisticRegression, ClassificationTree, DecisionListClassifier\n",
    "\n",
    "df = pd.read_csv(\n",
    "    \"https://archive.ics.uci.edu/ml/machine-learning-databases/adult/adult.data\",\n",
    "    header=None)\n",
    "df.columns = [\n",
    "    \"Age\", \"WorkClass\", \"fnlwgt\", \"Education\", \"EducationNum\",\n",
    "    \"MaritalStatus\", \"Occupation\", \"Relationship\", \"Race\", \"Gender\",\n",
    "    \"CapitalGain\", \"CapitalLoss\", \"HoursPerWeek\", \"NativeCountry\", \"Income\"\n",
    "]\n",
    "# df = df.sample(frac=0.1, random_state=1)\n",
    "train_cols = df.columns[0:-1]\n",
    "label = df.columns[-1]\n",
    "X = df[train_cols]\n",
    "y = df[label].apply(lambda x: 0 if x == \" <=50K\" else 1) #Turning response into 0 and 1\n",
    "\n",
    "seed = 1\n",
    "X_train, X_test, y_train, y_test = train_test_split(X, y, test_size=0.20, random_state=seed)"
   ]
  },
  {
   "cell_type": "markdown",
   "metadata": {},
   "source": [
    "## Explore the dataset"
   ]
  },
  {
   "cell_type": "code",
   "execution_count": 18,
   "metadata": {},
   "outputs": [],
   "source": [
    "from interpret import show\n",
    "from interpret.data import ClassHistogram\n",
    "\n",
    "# hist = ClassHistogram().explain_data(X_train, y_train, name = 'Train Data')\n",
    "# show(hist)"
   ]
  },
  {
   "cell_type": "markdown",
   "metadata": {},
   "source": [
    "## Train the Explainable Boosting Machine (EBM)"
   ]
  },
  {
   "cell_type": "code",
   "execution_count": 3,
   "metadata": {},
   "outputs": [],
   "source": [
    "from interpret.glassbox import ExplainableBoostingClassifier, LogisticRegression, ClassificationTree, DecisionListClassifier\n",
    "\n",
    "ebm = ExplainableBoostingClassifier(random_state=seed, n_jobs=-1)\n",
    "ebm.fit(X_train, y_train)   #Works on dataframes and numpy arrays"
   ]
  },
  {
   "source": [
    "## Mergring Multiple Explainable Boosting Machines (EBM)"
   ],
   "cell_type": "markdown",
   "metadata": {}
  },
  {
   "cell_type": "code",
   "execution_count": 4,
   "metadata": {},
   "outputs": [
    {
     "output_type": "stream",
     "name": "stdout",
     "text": [
      "21707 21707\n",
      "21707 21707\n",
      "21708 21708\n"
     ]
    }
   ],
   "source": [
    "import numpy as np\n",
    "from sklearn.model_selection import KFold\n",
    "from interpret.glassbox import ExplainableBoostingClassifier\n",
    "\n",
    "rng = np.random.RandomState(0)\n",
    "cv = KFold(n_splits=3, shuffle=True, random_state=rng)\n",
    "models =[]\n",
    "seed =1\n",
    "for train_index, test_index in cv.split(X):\n",
    "\n",
    "    X_train, y_train = X.iloc[train_index], y.iloc[train_index]\n",
    "\n",
    "    print( len(X_train) , len(y_train))\n",
    "    \n",
    "    ebm = ExplainableBoostingClassifier(random_state=seed, n_jobs=-1)\n",
    "    ebm.fit(X_train, y_train)  \n",
    "\n",
    "    models.append(ebm)\n",
    "    \n",
    "    seed +=10\n"
   ]
  },
  {
   "cell_type": "code",
   "execution_count": 7,
   "metadata": {},
   "outputs": [
    {
     "output_type": "stream",
     "name": "stdout",
     "text": [
      "The autoreload extension is already loaded. To reload it, use:\n  %reload_ext autoreload\n"
     ]
    }
   ],
   "source": [
    "%load_ext autoreload\n",
    "%autoreload 2\n",
    "from interpret.glassbox.ebm.utils import *\n",
    "from interpret import show\n",
    "\n",
    "merged_ebm = EBMUtils.merge_models(models=models)"
   ]
  },
  {
   "cell_type": "code",
   "execution_count": 8,
   "metadata": {},
   "outputs": [
    {
     "output_type": "display_data",
     "data": {
      "text/html": "<!-- http://127.0.0.1:7001/1424720715656/ -->\n<iframe src=\"http://127.0.0.1:7001/1424720715656/\" width=100% height=800 frameBorder=\"0\"></iframe>"
     },
     "metadata": {}
    }
   ],
   "source": [
    "ebm_global = merged_ebm.explain_global(name='EBM')\n",
    "show(ebm_global)"
   ]
  },
  {
   "cell_type": "code",
   "execution_count": 9,
   "metadata": {},
   "outputs": [
    {
     "output_type": "display_data",
     "data": {
      "text/html": "<!-- http://127.0.0.1:7001/1425217374280/ -->\n<iframe src=\"http://127.0.0.1:7001/1425217374280/\" width=100% height=800 frameBorder=\"0\"></iframe>"
     },
     "metadata": {}
    }
   ],
   "source": [
    "ebm0_global = models[0].explain_global(name='EBM')\n",
    "show(ebm0_global)"
   ]
  },
  {
   "cell_type": "code",
   "execution_count": 10,
   "metadata": {},
   "outputs": [
    {
     "output_type": "display_data",
     "data": {
      "text/html": "<!-- http://127.0.0.1:7001/1425217375688/ -->\n<iframe src=\"http://127.0.0.1:7001/1425217375688/\" width=100% height=800 frameBorder=\"0\"></iframe>"
     },
     "metadata": {}
    }
   ],
   "source": [
    "ebm1_global = models[1].explain_global(name='EBM')\n",
    "show(ebm1_global)"
   ]
  },
  {
   "cell_type": "code",
   "execution_count": 11,
   "metadata": {},
   "outputs": [
    {
     "output_type": "display_data",
     "data": {
      "text/html": "<!-- http://127.0.0.1:7001/1425249590792/ -->\n<iframe src=\"http://127.0.0.1:7001/1425249590792/\" width=100% height=800 frameBorder=\"0\"></iframe>"
     },
     "metadata": {}
    }
   ],
   "source": [
    "ebm2_global = models[2].explain_global(name='EBM')\n",
    "show(ebm2_global)"
   ]
  },
  {
   "cell_type": "code",
   "execution_count": 12,
   "metadata": {},
   "outputs": [
    {
     "output_type": "stream",
     "name": "stdout",
     "text": [
      "26048 26048\n",
      "26048 26048\n",
      "26048 26048\n"
     ]
    },
    {
     "output_type": "execute_result",
     "data": {
      "text/plain": [
       "ExplainableBoostingClassifier(feature_names=['Age', 'WorkClass', 'fnlwgt',\n",
       "                                             'Education', 'EducationNum',\n",
       "                                             'MaritalStatus', 'Occupation',\n",
       "                                             'Relationship', 'Race', 'Gender',\n",
       "                                             'CapitalGain', 'CapitalLoss',\n",
       "                                             'HoursPerWeek', 'NativeCountry',\n",
       "                                             'Age x Relationship',\n",
       "                                             'Relationship x HoursPerWeek',\n",
       "                                             'Relationship x CapitalLoss',\n",
       "                                             'WorkClass x Race',\n",
       "                                             'Age x HoursPerWeek',\n",
       "                                             'EducationNum x Occupati...\n",
       "                              feature_types=['continuous', 'categorical',\n",
       "                                             'continuous', 'categorical',\n",
       "                                             'continuous', 'categorical',\n",
       "                                             'categorical', 'categorical',\n",
       "                                             'categorical', 'categorical',\n",
       "                                             'continuous', 'continuous',\n",
       "                                             'continuous', 'categorical',\n",
       "                                             'interaction', 'interaction',\n",
       "                                             'interaction', 'interaction',\n",
       "                                             'interaction', 'interaction',\n",
       "                                             'interaction', 'interaction',\n",
       "                                             'interaction', 'interaction'],\n",
       "                              n_jobs=-1, random_state=21)"
      ]
     },
     "metadata": {},
     "execution_count": 12
    }
   ],
   "source": [
    "seed =1\n",
    "X_train, X_test, y_train, y_test = train_test_split(X, y, test_size=0.20, random_state=seed)\n",
    "ebm1 = ExplainableBoostingClassifier(random_state=seed, n_jobs=-1)\n",
    "print( len(X_train) , len(y_train))\n",
    "ebm1.fit(X_train, y_train)  \n",
    "\n",
    "seed +=10\n",
    "X_train, X_test, y_train, y_test = train_test_split(X, y, test_size=0.20, random_state=seed)\n",
    "print( len(X_train) , len(y_train))\n",
    "ebm2 = ExplainableBoostingClassifier(random_state=seed, n_jobs=-1)\n",
    "ebm2.fit(X_train, y_train)  \n",
    "\n",
    "seed +=10\n",
    "X_train, X_test, y_train, y_test = train_test_split(X, y, test_size=0.20, random_state=seed)\n",
    "print( len(X_train) , len(y_train))\n",
    "ebm3 = ExplainableBoostingClassifier(random_state=seed, n_jobs=-1)\n",
    "ebm3.fit(X_train, y_train)  "
   ]
  },
  {
   "cell_type": "code",
   "execution_count": 17,
   "metadata": {},
   "outputs": [
    {
     "output_type": "display_data",
     "data": {
      "text/html": "<!-- http://127.0.0.1:7001/1425268148808/ -->\n<iframe src=\"http://127.0.0.1:7001/1425268148808/\" width=100% height=800 frameBorder=\"0\"></iframe>"
     },
     "metadata": {}
    }
   ],
   "source": [
    "from interpret.glassbox.ebm.utils import *\n",
    "\n",
    "merged_ebm2 = EBMUtils.merge_models(models=[ebm1, ebm2 , ebm3])\n",
    "\n",
    "ebm_global2 = merged_ebm.explain_global(name='EBM')\n",
    "show(ebm_global2)"
   ]
  },
  {
   "cell_type": "code",
   "execution_count": 16,
   "metadata": {},
   "outputs": [],
   "source": [
    "# pickle.dump(ebm1,open(\"D:\\\\Projects\\\\interpret\\\\examples\\\\python\\\\notebooks\\\\ebm1.pickle\", 'wb'))\n",
    "# pickle.dump(ebm2,open(\"D:\\\\Projects\\\\interpret\\\\examples\\\\python\\\\notebooks\\\\ebm2.pickle\", 'wb'))\n",
    "# pickle.dump(ebm3,open(\"D:\\\\Projects\\\\interpret\\\\examples\\\\python\\\\notebooks\\\\ebm3.pickle\", 'wb'))\n",
    "\n",
    "# ebm1 = pickle.load(open(\"D:\\\\Projects\\\\interpret\\\\examples\\\\python\\\\notebooks\\\\ebm1.pickle\" ,'rb'))\n",
    "# ebm2 = pickle.load(open(\"D:\\\\Projects\\\\interpret\\\\examples\\\\python\\\\notebooks\\\\ebm2.pickle\" ,'rb'))\n",
    "# ebm3 = pickle.load(open(\"D:\\\\Projects\\\\interpret\\\\examples\\\\python\\\\notebooks\\\\ebm3.pickle\" ,'rb'))"
   ]
  },
  {
   "cell_type": "code",
   "execution_count": 15,
   "metadata": {},
   "outputs": [],
   "source": [
    "# (ebm1.preprocessor_.col_bin_counts_[0])"
   ]
  },
  {
   "cell_type": "markdown",
   "metadata": {},
   "source": [
    "## Global Explanations: What the model learned overall"
   ]
  },
  {
   "cell_type": "code",
   "execution_count": 14,
   "metadata": {},
   "outputs": [
    {
     "output_type": "display_data",
     "data": {
      "text/html": "<!-- http://127.0.0.1:7001/1425266539656/ -->\n<iframe src=\"http://127.0.0.1:7001/1425266539656/\" width=100% height=800 frameBorder=\"0\"></iframe>"
     },
     "metadata": {}
    }
   ],
   "source": [
    "ebm_global2 = merged_ebm.explain_global(name='EBM')\n",
    "show(ebm_global2)"
   ]
  },
  {
   "cell_type": "markdown",
   "metadata": {},
   "source": [
    "## Local Explanations: How an individual prediction was made"
   ]
  },
  {
   "cell_type": "code",
   "execution_count": null,
   "metadata": {},
   "outputs": [],
   "source": [
    "ebm_local = ebm.explain_local(X_test[:5], y_test[:5], name='EBM')\n",
    "show(ebm_local)"
   ]
  },
  {
   "cell_type": "markdown",
   "metadata": {},
   "source": [
    "## Evaluate EBM performance"
   ]
  },
  {
   "cell_type": "code",
   "execution_count": null,
   "metadata": {
    "scrolled": false
   },
   "outputs": [],
   "source": [
    "from interpret.perf import ROC\n",
    "\n",
    "ebm_perf = ROC(ebm.predict_proba).explain_perf(X_test, y_test, name='EBM')\n",
    "show(ebm_perf)"
   ]
  },
  {
   "cell_type": "markdown",
   "metadata": {},
   "source": [
    "## Let's test out a few other Explainable Models"
   ]
  },
  {
   "cell_type": "code",
   "execution_count": null,
   "metadata": {
    "scrolled": true
   },
   "outputs": [],
   "source": [
    "from interpret.glassbox import LogisticRegression, ClassificationTree\n",
    "\n",
    "# We have to transform categorical variables to use Logistic Regression and Decision Tree\n",
    "X_enc = pd.get_dummies(X, prefix_sep='.')\n",
    "feature_names = list(X_enc.columns)\n",
    "X_train_enc, X_test_enc, y_train, y_test = train_test_split(X_enc, y, test_size=0.20, random_state=seed)\n",
    "\n",
    "lr = LogisticRegression(random_state=seed, feature_names=feature_names, penalty='l1', solver='liblinear')\n",
    "lr.fit(X_train_enc, y_train)\n",
    "\n",
    "tree = ClassificationTree()\n",
    "tree.fit(X_train_enc, y_train)"
   ]
  },
  {
   "cell_type": "markdown",
   "metadata": {},
   "source": [
    "## Compare performance using the Dashboard"
   ]
  },
  {
   "cell_type": "code",
   "execution_count": null,
   "metadata": {
    "scrolled": false
   },
   "outputs": [],
   "source": [
    "lr_perf = ROC(lr.predict_proba).explain_perf(X_test_enc, y_test, name='Logistic Regression')\n",
    "tree_perf = ROC(tree.predict_proba).explain_perf(X_test_enc, y_test, name='Classification Tree')\n",
    "\n",
    "show(lr_perf)\n",
    "show(tree_perf)\n",
    "show(ebm_perf)"
   ]
  },
  {
   "cell_type": "markdown",
   "metadata": {},
   "source": [
    "## Glassbox: All of our models have global and local explanations"
   ]
  },
  {
   "cell_type": "code",
   "execution_count": null,
   "metadata": {
    "scrolled": false
   },
   "outputs": [],
   "source": [
    "lr_global = lr.explain_global(name='Logistic Regression')\n",
    "tree_global = tree.explain_global(name='Classification Tree')\n",
    "\n",
    "show(lr_global)\n",
    "show(tree_global)\n",
    "show(ebm_global)"
   ]
  },
  {
   "cell_type": "markdown",
   "metadata": {},
   "source": [
    "## Dashboard: look at everything at once"
   ]
  },
  {
   "cell_type": "code",
   "execution_count": null,
   "metadata": {
    "pycharm": {
     "name": "#%%\n"
    }
   },
   "outputs": [],
   "source": [
    "# Do everything in one shot with the InterpretML Dashboard by passing a list into show\n",
    "\n",
    "show([hist, lr_global, lr_perf, tree_global, tree_perf, ebm_global, ebm_perf], share_tables=True)"
   ]
  }
 ],
 "metadata": {
  "kernelspec": {
   "name": "python3",
   "display_name": "Python 3.7.9 64-bit",
   "metadata": {
    "interpreter": {
     "hash": "3842b5eb5216b4da67b6bce73de1b807a37c5e99bf85e724883ada4bdba014b9"
    }
   }
  },
  "language_info": {
   "codemirror_mode": {
    "name": "ipython",
    "version": 3
   },
   "file_extension": ".py",
   "mimetype": "text/x-python",
   "name": "python",
   "nbconvert_exporter": "python",
   "pygments_lexer": "ipython3",
   "version": "3.7.9-final"
  }
 },
 "nbformat": 4,
 "nbformat_minor": 2
}