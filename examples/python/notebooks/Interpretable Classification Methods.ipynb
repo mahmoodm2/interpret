{
 "cells": [
  {
   "cell_type": "markdown",
   "metadata": {},
   "source": [
    "## Setup a classification experiment"
   ]
  },
  {
   "cell_type": "code",
   "execution_count": 3,
   "metadata": {},
   "outputs": [],
   "source": [
    "import pickle\n",
    "import numpy as np"
   ]
  },
  {
   "cell_type": "code",
   "execution_count": 47,
   "metadata": {},
   "outputs": [
    {
     "output_type": "stream",
     "name": "stdout",
     "text": [
      "Merged Edges = \n [1, 20, 33, 50, 66, 90, 100, 120]\nNew Bin Values =\n8\n8\nNew Weight Values =\n8\n8\nMerged models bin values= \n [ 1.          1.90909091 -1.85714286 -1.90909091  1.8125      2.80952381\n  3.13953488  8.77358491]\n"
     ]
    }
   ],
   "source": [
    "m1 = [0, +1 , -1 , 5]\n",
    "w1= [1,2,3]\n",
    "edges1 =[1,50,100]\n",
    "\n",
    "m2 = [0,+2, -2, +2 , +3 , 9]\n",
    "w2 =[10,20,30,40,50]\n",
    "edges2 =[20,33,66,90 , 120]\n",
    "\n",
    "merged_edges = sorted(set().union(*[set(edges1) , set(edges2)]))\n",
    "print(\"Merged Edges = \\n\" , merged_edges)\n",
    "\n",
    "models =[ m1 , m2]\n",
    "weights= [w1,w2]\n",
    "\n",
    "ne = [ np.searchsorted( edges1,  merged_edges + [np.inf] ) , np.searchsorted(edges2,  merged_edges + [np.inf])]\n",
    "# print('Edge Index= ', ne)\n",
    "\n",
    "bv =[]\n",
    "wv=[]\n",
    "for idx, m in enumerate(models):\n",
    "    mvalues = m[1:]    \n",
    "    bv.append([ mvalues[x-1] if x > 0 and x <=len(mvalues) else 0 for x in ne[idx][1:] ])\n",
    "    wv.append([ weights[idx][x-1] if x > 0 and x <=len(mvalues) else 0 for x in ne[idx][1:] ])\n",
    "\n",
    "print(\"New Bin Values =\")\n",
    "for b in bv: print(len(b))\n",
    "\n",
    "print(\"New Weight Values =\")\n",
    "for w in wv: print(len(w))\n",
    "\n",
    "mbv = np.average(bv, axis=0, weights= wv)# np.nanmean(bv, axis=0)\n",
    "\n",
    "print(\"Merged models bin values= \\n\" , mbv)\n",
    "\n",
    "mbv = np.average(bv, axis=0)\n",
    "# Merged Model=  [1.   1.5 -0.5 -1.5  0.5  1.   4.   7. ]"
   ]
  },
  {
   "cell_type": "code",
   "execution_count": 1,
   "metadata": {},
   "outputs": [],
   "source": [
    "import pandas as pd\n",
    "from sklearn.model_selection import train_test_split\n",
    "from interpret.glassbox import ExplainableBoostingClassifier, LogisticRegression, ClassificationTree, DecisionListClassifier\n",
    "\n",
    "df = pd.read_csv(\n",
    "    \"https://archive.ics.uci.edu/ml/machine-learning-databases/adult/adult.data\",\n",
    "    header=None)\n",
    "df.columns = [\n",
    "    \"Age\", \"WorkClass\", \"fnlwgt\", \"Education\", \"EducationNum\",\n",
    "    \"MaritalStatus\", \"Occupation\", \"Relationship\", \"Race\", \"Gender\",\n",
    "    \"CapitalGain\", \"CapitalLoss\", \"HoursPerWeek\", \"NativeCountry\", \"Income\"\n",
    "]\n",
    "# df = df.sample(frac=0.1, random_state=1)\n",
    "train_cols = df.columns[0:-1]\n",
    "label = df.columns[-1]\n",
    "X = df[train_cols]\n",
    "y = df[label].apply(lambda x: 0 if x == \" <=50K\" else 1) #Turning response into 0 and 1\n",
    "\n",
    "seed = 1\n",
    "X_train, X_test, y_train, y_test = train_test_split(X, y, test_size=0.20, random_state=seed)"
   ]
  },
  {
   "cell_type": "markdown",
   "metadata": {},
   "source": [
    "## Explore the dataset"
   ]
  },
  {
   "cell_type": "code",
   "execution_count": 14,
   "metadata": {},
   "outputs": [
    {
     "output_type": "display_data",
     "data": {
      "text/html": "<!-- http://127.0.0.1:7001/2132562747144/ -->\n<iframe src=\"http://127.0.0.1:7001/2132562747144/\" width=100% height=800 frameBorder=\"0\"></iframe>"
     },
     "metadata": {}
    }
   ],
   "source": [
    "from interpret import show\n",
    "from interpret.data import ClassHistogram\n",
    "\n",
    "hist = ClassHistogram().explain_data(X_train, y_train, name = 'Train Data')\n",
    "show(hist)"
   ]
  },
  {
   "cell_type": "markdown",
   "metadata": {},
   "source": [
    "## Train the Explainable Boosting Machine (EBM)"
   ]
  },
  {
   "cell_type": "code",
   "execution_count": 4,
   "metadata": {},
   "outputs": [
    {
     "output_type": "execute_result",
     "data": {
      "text/plain": [
       "ExplainableBoostingClassifier(feature_names=['Age', 'WorkClass', 'fnlwgt',\n",
       "                                             'Education', 'EducationNum',\n",
       "                                             'MaritalStatus', 'Occupation',\n",
       "                                             'Relationship', 'Race', 'Gender',\n",
       "                                             'CapitalGain', 'CapitalLoss',\n",
       "                                             'HoursPerWeek', 'NativeCountry',\n",
       "                                             'Relationship x HoursPerWeek',\n",
       "                                             'Age x Relationship',\n",
       "                                             'MaritalStatus x HoursPerWeek',\n",
       "                                             'EducationNum x Occupation',\n",
       "                                             'fnlwgt x HoursPerWeek',\n",
       "                                             'Occupat...\n",
       "                              feature_types=['continuous', 'categorical',\n",
       "                                             'continuous', 'categorical',\n",
       "                                             'continuous', 'categorical',\n",
       "                                             'categorical', 'categorical',\n",
       "                                             'categorical', 'categorical',\n",
       "                                             'continuous', 'continuous',\n",
       "                                             'continuous', 'categorical',\n",
       "                                             'interaction', 'interaction',\n",
       "                                             'interaction', 'interaction',\n",
       "                                             'interaction', 'interaction',\n",
       "                                             'interaction', 'interaction',\n",
       "                                             'interaction', 'interaction'],\n",
       "                              n_jobs=-1, random_state=1)"
      ]
     },
     "metadata": {},
     "execution_count": 4
    }
   ],
   "source": [
    "from interpret.glassbox import ExplainableBoostingClassifier, LogisticRegression, ClassificationTree, DecisionListClassifier\n",
    "\n",
    "ebm = ExplainableBoostingClassifier(random_state=seed, n_jobs=-1)\n",
    "ebm.fit(X_train, y_train)   #Works on dataframes and numpy arrays"
   ]
  },
  {
   "source": [
    "## Mergring Multiple Explainable Boosting Machines (EBM)"
   ],
   "cell_type": "markdown",
   "metadata": {}
  },
  {
   "cell_type": "code",
   "execution_count": 4,
   "metadata": {},
   "outputs": [
    {
     "output_type": "stream",
     "name": "stdout",
     "text": [
      "21707 21707\n",
      "21707 21707\n",
      "21708 21708\n"
     ]
    }
   ],
   "source": [
    "from sklearn.model_selection import KFold\n",
    "from interpret.glassbox import ExplainableBoostingClassifier\n",
    "\n",
    "rng = np.random.RandomState(0)\n",
    "cv = KFold(n_splits=3, shuffle=True, random_state=rng)\n",
    "models =[]\n",
    "seed =1\n",
    "for train_index, test_index in cv.split(X):\n",
    "\n",
    "    X_train, y_train = X.iloc[train_index], y.iloc[train_index]\n",
    "\n",
    "    print( len(X_train) , len(y_train))\n",
    "    \n",
    "    ebm = ExplainableBoostingClassifier(random_state=seed, n_jobs=-1)\n",
    "    ebm.fit(X_train, y_train)  \n",
    "    models.append(ebm)\n",
    "    seed +=10\n"
   ]
  },
  {
   "cell_type": "code",
   "execution_count": 5,
   "metadata": {},
   "outputs": [
    {
     "output_type": "execute_result",
     "data": {
      "text/plain": [
       "3"
      ]
     },
     "metadata": {},
     "execution_count": 5
    }
   ],
   "source": [
    "len(models)"
   ]
  },
  {
   "cell_type": "code",
   "execution_count": 12,
   "metadata": {},
   "outputs": [
    {
     "output_type": "stream",
     "name": "stdout",
     "text": [
      "The autoreload extension is already loaded. To reload it, use:\n  %reload_ext autoreload\n"
     ]
    }
   ],
   "source": [
    "%load_ext autoreload\n",
    "%autoreload 2\n",
    "from interpret.glassbox.ebm.utils import *\n",
    "\n",
    "merged_ebm = EBMUtils.merge_models(models=models)"
   ]
  },
  {
   "cell_type": "code",
   "execution_count": 17,
   "metadata": {},
   "outputs": [
    {
     "output_type": "display_data",
     "data": {
      "text/html": "<!-- http://127.0.0.1:7001/2132628760968/ -->\n<iframe src=\"http://127.0.0.1:7001/2132628760968/\" width=100% height=800 frameBorder=\"0\"></iframe>"
     },
     "metadata": {}
    }
   ],
   "source": [
    "ebm0_global = models[0].explain_global(name='EBM')\n",
    "show(ebm0_global)"
   ]
  },
  {
   "cell_type": "code",
   "execution_count": 18,
   "metadata": {},
   "outputs": [
    {
     "output_type": "display_data",
     "data": {
      "text/html": "<!-- http://127.0.0.1:7001/2132626967880/ -->\n<iframe src=\"http://127.0.0.1:7001/2132626967880/\" width=100% height=800 frameBorder=\"0\"></iframe>"
     },
     "metadata": {}
    }
   ],
   "source": [
    "ebm1_global = models[1].explain_global(name='EBM')\n",
    "show(ebm1_global)"
   ]
  },
  {
   "cell_type": "code",
   "execution_count": 19,
   "metadata": {},
   "outputs": [
    {
     "output_type": "display_data",
     "data": {
      "text/html": "<!-- http://127.0.0.1:7001/2132626793864/ -->\n<iframe src=\"http://127.0.0.1:7001/2132626793864/\" width=100% height=800 frameBorder=\"0\"></iframe>"
     },
     "metadata": {}
    }
   ],
   "source": [
    "ebm2_global = models[2].explain_global(name='EBM')\n",
    "show(ebm2_global)"
   ]
  },
  {
   "cell_type": "code",
   "execution_count": 15,
   "metadata": {},
   "outputs": [
    {
     "output_type": "display_data",
     "data": {
      "text/html": "<!-- http://127.0.0.1:7001/2132594776520/ -->\n<iframe src=\"http://127.0.0.1:7001/2132594776520/\" width=100% height=800 frameBorder=\"0\"></iframe>"
     },
     "metadata": {}
    }
   ],
   "source": [
    "ebm_global = merged_ebm.explain_global(name='EBM')\n",
    "show(ebm_global)"
   ]
  },
  {
   "cell_type": "code",
   "execution_count": 12,
   "metadata": {},
   "outputs": [
    {
     "output_type": "stream",
     "name": "stdout",
     "text": [
      "26048 26048\n",
      "26048 26048\n",
      "26048 26048\n"
     ]
    },
    {
     "output_type": "execute_result",
     "data": {
      "text/plain": [
       "ExplainableBoostingClassifier(feature_names=['Age', 'WorkClass', 'fnlwgt',\n",
       "                                             'Education', 'EducationNum',\n",
       "                                             'MaritalStatus', 'Occupation',\n",
       "                                             'Relationship', 'Race', 'Gender',\n",
       "                                             'CapitalGain', 'CapitalLoss',\n",
       "                                             'HoursPerWeek', 'NativeCountry',\n",
       "                                             'Age x Relationship',\n",
       "                                             'Relationship x HoursPerWeek',\n",
       "                                             'Relationship x CapitalLoss',\n",
       "                                             'WorkClass x Race',\n",
       "                                             'Age x HoursPerWeek',\n",
       "                                             'EducationNum x Occupati...\n",
       "                              feature_types=['continuous', 'categorical',\n",
       "                                             'continuous', 'categorical',\n",
       "                                             'continuous', 'categorical',\n",
       "                                             'categorical', 'categorical',\n",
       "                                             'categorical', 'categorical',\n",
       "                                             'continuous', 'continuous',\n",
       "                                             'continuous', 'categorical',\n",
       "                                             'interaction', 'interaction',\n",
       "                                             'interaction', 'interaction',\n",
       "                                             'interaction', 'interaction',\n",
       "                                             'interaction', 'interaction',\n",
       "                                             'interaction', 'interaction'],\n",
       "                              n_jobs=-1, random_state=21)"
      ]
     },
     "metadata": {},
     "execution_count": 12
    }
   ],
   "source": [
    "seed =1\n",
    "X_train, X_test, y_train, y_test = train_test_split(X, y, test_size=0.20, random_state=seed)\n",
    "ebm1 = ExplainableBoostingClassifier(random_state=seed, n_jobs=-1)\n",
    "print( len(X_train) , len(y_train))\n",
    "ebm1.fit(X_train, y_train)  \n",
    "\n",
    "seed +=10\n",
    "X_train, X_test, y_train, y_test = train_test_split(X, y, test_size=0.20, random_state=seed)\n",
    "print( len(X_train) , len(y_train))\n",
    "ebm2 = ExplainableBoostingClassifier(random_state=seed, n_jobs=-1)\n",
    "ebm2.fit(X_train, y_train)  \n",
    "\n",
    "seed +=10\n",
    "X_train, X_test, y_train, y_test = train_test_split(X, y, test_size=0.20, random_state=seed)\n",
    "print( len(X_train) , len(y_train))\n",
    "ebm3 = ExplainableBoostingClassifier(random_state=seed, n_jobs=-1)\n",
    "ebm3.fit(X_train, y_train)  "
   ]
  },
  {
   "cell_type": "code",
   "execution_count": 6,
   "metadata": {},
   "outputs": [
    {
     "output_type": "error",
     "ename": "AttributeError",
     "evalue": "'ExplainableBoostingClassifier' object has no attribute 'preprocessor_'",
     "traceback": [
      "\u001b[1;31m---------------------------------------------------------------------------\u001b[0m",
      "\u001b[1;31mAttributeError\u001b[0m                            Traceback (most recent call last)",
      "\u001b[1;32m<ipython-input-6-9e42258e6e75>\u001b[0m in \u001b[0;36m<module>\u001b[1;34m\u001b[0m\n\u001b[0;32m      1\u001b[0m \u001b[1;32mfrom\u001b[0m \u001b[0minterpret\u001b[0m\u001b[1;33m.\u001b[0m\u001b[0mglassbox\u001b[0m\u001b[1;33m.\u001b[0m\u001b[0mebm\u001b[0m\u001b[1;33m.\u001b[0m\u001b[0mutils\u001b[0m \u001b[1;32mimport\u001b[0m \u001b[1;33m*\u001b[0m\u001b[1;33m\u001b[0m\u001b[1;33m\u001b[0m\u001b[0m\n\u001b[0;32m      2\u001b[0m \u001b[1;33m\u001b[0m\u001b[0m\n\u001b[1;32m----> 3\u001b[1;33m \u001b[0mmerged_ebm\u001b[0m \u001b[1;33m=\u001b[0m \u001b[0mEBMUtils\u001b[0m\u001b[1;33m.\u001b[0m\u001b[0mmerge_models\u001b[0m\u001b[1;33m(\u001b[0m\u001b[0mmodels\u001b[0m\u001b[1;33m=\u001b[0m\u001b[1;33m[\u001b[0m\u001b[0mebm1\u001b[0m\u001b[1;33m,\u001b[0m \u001b[0mebm2\u001b[0m \u001b[1;33m,\u001b[0m \u001b[0mebm3\u001b[0m\u001b[1;33m]\u001b[0m\u001b[1;33m)\u001b[0m\u001b[1;33m\u001b[0m\u001b[1;33m\u001b[0m\u001b[0m\n\u001b[0m",
      "\u001b[1;32md:\\projects\\interpret\\python\\interpret-core\\interpret\\glassbox\\ebm\\utils.py\u001b[0m in \u001b[0;36mmerge_models\u001b[1;34m(models)\u001b[0m\n\u001b[0;32m     41\u001b[0m         \u001b[0mebm\u001b[0m\u001b[1;33m.\u001b[0m\u001b[0mbagged_models_\u001b[0m\u001b[1;33m=\u001b[0m\u001b[1;33m[\u001b[0m\u001b[1;33m]\u001b[0m\u001b[1;33m\u001b[0m\u001b[1;33m\u001b[0m\u001b[0m\n\u001b[0;32m     42\u001b[0m \u001b[1;33m\u001b[0m\u001b[0m\n\u001b[1;32m---> 43\u001b[1;33m         \u001b[1;32mif\u001b[0m \u001b[1;32mnot\u001b[0m \u001b[0mall\u001b[0m\u001b[1;33m(\u001b[0m\u001b[1;33m[\u001b[0m  \u001b[0mmodel\u001b[0m\u001b[1;33m.\u001b[0m\u001b[0mpreprocessor_\u001b[0m\u001b[1;33m.\u001b[0m\u001b[0mcol_types_\u001b[0m \u001b[1;33m==\u001b[0m \u001b[0mebm\u001b[0m\u001b[1;33m.\u001b[0m\u001b[0mpreprocessor_\u001b[0m\u001b[1;33m.\u001b[0m\u001b[0mcol_types_\u001b[0m \u001b[1;32mfor\u001b[0m \u001b[0mmodel\u001b[0m \u001b[1;32min\u001b[0m \u001b[0mmodels\u001b[0m\u001b[1;33m]\u001b[0m\u001b[1;33m)\u001b[0m\u001b[1;33m:\u001b[0m\u001b[1;33m\u001b[0m\u001b[1;33m\u001b[0m\u001b[0m\n\u001b[0m\u001b[0;32m     44\u001b[0m             \u001b[1;32mraise\u001b[0m \u001b[0mException\u001b[0m\u001b[1;33m(\u001b[0m\u001b[1;34m\"All models should have the same types of features. Probably the models are trained using different datasets\"\u001b[0m\u001b[1;33m)\u001b[0m\u001b[1;33m\u001b[0m\u001b[1;33m\u001b[0m\u001b[0m\n\u001b[0;32m     45\u001b[0m \u001b[1;33m\u001b[0m\u001b[0m\n",
      "\u001b[1;32md:\\projects\\interpret\\python\\interpret-core\\interpret\\glassbox\\ebm\\utils.py\u001b[0m in \u001b[0;36m<listcomp>\u001b[1;34m(.0)\u001b[0m\n\u001b[0;32m     41\u001b[0m         \u001b[0mebm\u001b[0m\u001b[1;33m.\u001b[0m\u001b[0mbagged_models_\u001b[0m\u001b[1;33m=\u001b[0m\u001b[1;33m[\u001b[0m\u001b[1;33m]\u001b[0m\u001b[1;33m\u001b[0m\u001b[1;33m\u001b[0m\u001b[0m\n\u001b[0;32m     42\u001b[0m \u001b[1;33m\u001b[0m\u001b[0m\n\u001b[1;32m---> 43\u001b[1;33m         \u001b[1;32mif\u001b[0m \u001b[1;32mnot\u001b[0m \u001b[0mall\u001b[0m\u001b[1;33m(\u001b[0m\u001b[1;33m[\u001b[0m  \u001b[0mmodel\u001b[0m\u001b[1;33m.\u001b[0m\u001b[0mpreprocessor_\u001b[0m\u001b[1;33m.\u001b[0m\u001b[0mcol_types_\u001b[0m \u001b[1;33m==\u001b[0m \u001b[0mebm\u001b[0m\u001b[1;33m.\u001b[0m\u001b[0mpreprocessor_\u001b[0m\u001b[1;33m.\u001b[0m\u001b[0mcol_types_\u001b[0m \u001b[1;32mfor\u001b[0m \u001b[0mmodel\u001b[0m \u001b[1;32min\u001b[0m \u001b[0mmodels\u001b[0m\u001b[1;33m]\u001b[0m\u001b[1;33m)\u001b[0m\u001b[1;33m:\u001b[0m\u001b[1;33m\u001b[0m\u001b[1;33m\u001b[0m\u001b[0m\n\u001b[0m\u001b[0;32m     44\u001b[0m             \u001b[1;32mraise\u001b[0m \u001b[0mException\u001b[0m\u001b[1;33m(\u001b[0m\u001b[1;34m\"All models should have the same types of features. Probably the models are trained using different datasets\"\u001b[0m\u001b[1;33m)\u001b[0m\u001b[1;33m\u001b[0m\u001b[1;33m\u001b[0m\u001b[0m\n\u001b[0;32m     45\u001b[0m \u001b[1;33m\u001b[0m\u001b[0m\n",
      "\u001b[1;31mAttributeError\u001b[0m: 'ExplainableBoostingClassifier' object has no attribute 'preprocessor_'"
     ]
    }
   ],
   "source": [
    "from interpret.glassbox.ebm.utils import *\n",
    "\n",
    "merged_ebm = EBMUtils.merge_models(models=[ebm1, ebm2 , ebm3])"
   ]
  },
  {
   "cell_type": "code",
   "execution_count": 29,
   "metadata": {},
   "outputs": [],
   "source": [
    "pickle.dump(ebm1,open(\"D:\\\\Projects\\\\interpret\\\\examples\\\\python\\\\notebooks\\\\ebm1.pickle\", 'wb'))\n",
    "pickle.dump(ebm2,open(\"D:\\\\Projects\\\\interpret\\\\examples\\\\python\\\\notebooks\\\\ebm2.pickle\", 'wb'))\n",
    "pickle.dump(ebm3,open(\"D:\\\\Projects\\\\interpret\\\\examples\\\\python\\\\notebooks\\\\ebm3.pickle\", 'wb'))"
   ]
  },
  {
   "cell_type": "code",
   "execution_count": 30,
   "metadata": {},
   "outputs": [],
   "source": [
    "ebm1 = pickle.load(open(\"D:\\\\Projects\\\\interpret\\\\examples\\\\python\\\\notebooks\\\\ebm1.pickle\" ,'rb'))\n",
    "ebm2 = pickle.load(open(\"D:\\\\Projects\\\\interpret\\\\examples\\\\python\\\\notebooks\\\\ebm2.pickle\" ,'rb'))\n",
    "ebm3 = pickle.load(open(\"D:\\\\Projects\\\\interpret\\\\examples\\\\python\\\\notebooks\\\\ebm3.pickle\" ,'rb'))\n"
   ]
  },
  {
   "cell_type": "code",
   "execution_count": 70,
   "metadata": {},
   "outputs": [
    {
     "output_type": "execute_result",
     "data": {
      "text/plain": [
       "['Age',\n",
       " 'WorkClass',\n",
       " 'fnlwgt',\n",
       " 'Education',\n",
       " 'EducationNum',\n",
       " 'MaritalStatus',\n",
       " 'Occupation',\n",
       " 'Relationship',\n",
       " 'Race',\n",
       " 'Gender',\n",
       " 'CapitalGain',\n",
       " 'CapitalLoss',\n",
       " 'HoursPerWeek',\n",
       " 'NativeCountry',\n",
       " 'Relationship x HoursPerWeek',\n",
       " 'Age x Relationship',\n",
       " 'MaritalStatus x HoursPerWeek',\n",
       " 'EducationNum x MaritalStatus',\n",
       " 'Age x CapitalLoss',\n",
       " 'Age x HoursPerWeek',\n",
       " 'Age x WorkClass',\n",
       " 'WorkClass x Race',\n",
       " 'Relationship x CapitalLoss',\n",
       " 'Occupation x Relationship']"
      ]
     },
     "metadata": {},
     "execution_count": 70
    }
   ],
   "source": [
    "ebm2.feature_names"
   ]
  },
  {
   "cell_type": "code",
   "execution_count": 76,
   "metadata": {},
   "outputs": [
    {
     "output_type": "execute_result",
     "data": {
      "text/plain": [
       "(array([  0, 317, 438, 568, 606, 575, 613, 697, 641, 669, 617, 672, 699,\n",
       "        657, 684, 736, 659, 703, 696, 702, 719, 688, 663, 656, 643, 660,\n",
       "        621, 604, 579, 574, 595, 561, 430, 460, 485, 485, 374, 373, 321,\n",
       "        338, 289, 282, 297, 288, 254, 241, 199, 191, 170, 133, 111, 127,\n",
       "         97,  84,  75,  55,  52,  51,  39,  37,  36,  25,  19,  37,  25,\n",
       "         21,  35], dtype=int64),\n",
       " array([  0, 303, 445, 558, 607, 579, 618, 683, 644, 676, 606, 665, 705,\n",
       "        639, 700, 704, 652, 714, 701, 708, 717, 677, 645, 640, 640, 630,\n",
       "        631, 615, 583, 586, 599, 578, 434, 480, 492, 483, 384, 372, 340,\n",
       "        333, 303, 286, 293, 294, 243, 235, 212, 183, 175, 144, 117, 117,\n",
       "        102,  91,  72,  62,  48,  52,  31,  32,  35,  22,  20,  35,  23,\n",
       "         18,  37], dtype=int64))"
      ]
     },
     "metadata": {},
     "execution_count": 76
    }
   ],
   "source": [
    "ebm1.preprocessor_.col_bin_counts_[0] , ebm2.preprocessor_.col_bin_counts_[0]"
   ]
  },
  {
   "cell_type": "code",
   "execution_count": 95,
   "metadata": {},
   "outputs": [
    {
     "output_type": "execute_result",
     "data": {
      "text/plain": [
       "array([  0, 317, 438, 568, 606, 575, 613, 697, 641, 669, 617, 672, 699,\n",
       "       657, 684, 736, 659, 703, 696, 702, 719, 688, 663, 656, 643, 660,\n",
       "       621, 604, 579, 574, 595, 561, 430, 460, 485, 485, 374, 373, 321,\n",
       "       338, 289, 282, 297, 288, 254, 241, 199, 191, 170, 133, 111, 127,\n",
       "        97,  84,  75,  55,  52,  51,  39,  37,  36,  25,  19,  37,  25,\n",
       "        21,  35], dtype=int64)"
      ]
     },
     "metadata": {},
     "execution_count": 95
    }
   ],
   "source": [
    "(ebm1.preprocessor_.col_bin_counts_[0])"
   ]
  },
  {
   "cell_type": "code",
   "execution_count": 133,
   "metadata": {},
   "outputs": [
    {
     "output_type": "stream",
     "name": "stdout",
     "text": [
      "0 65\n2 254\n4 15\n10 75\n11 58\n12 76\n"
     ]
    }
   ],
   "source": [
    "for index,_ in enumerate(ebm1.feature_groups_):\n",
    "    if index in ebm1.preprocessor_.col_bin_edges_.keys():\n",
    "        print(index, len(ebm1.preprocessor_.col_bin_edges_[index]))"
   ]
  },
  {
   "cell_type": "code",
   "execution_count": 138,
   "metadata": {},
   "outputs": [],
   "source": [
    "from interpret.glassbox.ebm.utils import *"
   ]
  },
  {
   "cell_type": "code",
   "execution_count": null,
   "metadata": {},
   "outputs": [],
   "source": [
    "EBMUtils.merge_models(models)"
   ]
  },
  {
   "cell_type": "markdown",
   "metadata": {},
   "source": [
    "## Global Explanations: What the model learned overall"
   ]
  },
  {
   "cell_type": "code",
   "execution_count": 5,
   "metadata": {},
   "outputs": [
    {
     "output_type": "display_data",
     "data": {
      "text/html": "<!-- http://127.0.0.1:7001/2793533953672/ -->\n<iframe src=\"http://127.0.0.1:7001/2793533953672/\" width=100% height=800 frameBorder=\"0\"></iframe>"
     },
     "metadata": {}
    }
   ],
   "source": [
    "ebm_global = ebm.explain_global(name='EBM')\n",
    "show(ebm_global)"
   ]
  },
  {
   "cell_type": "markdown",
   "metadata": {},
   "source": [
    "## Local Explanations: How an individual prediction was made"
   ]
  },
  {
   "cell_type": "code",
   "execution_count": null,
   "metadata": {},
   "outputs": [],
   "source": [
    "ebm_local = ebm.explain_local(X_test[:5], y_test[:5], name='EBM')\n",
    "show(ebm_local)"
   ]
  },
  {
   "cell_type": "markdown",
   "metadata": {},
   "source": [
    "## Evaluate EBM performance"
   ]
  },
  {
   "cell_type": "code",
   "execution_count": null,
   "metadata": {
    "scrolled": false
   },
   "outputs": [],
   "source": [
    "from interpret.perf import ROC\n",
    "\n",
    "ebm_perf = ROC(ebm.predict_proba).explain_perf(X_test, y_test, name='EBM')\n",
    "show(ebm_perf)"
   ]
  },
  {
   "cell_type": "markdown",
   "metadata": {},
   "source": [
    "## Let's test out a few other Explainable Models"
   ]
  },
  {
   "cell_type": "code",
   "execution_count": null,
   "metadata": {
    "scrolled": true
   },
   "outputs": [],
   "source": [
    "from interpret.glassbox import LogisticRegression, ClassificationTree\n",
    "\n",
    "# We have to transform categorical variables to use Logistic Regression and Decision Tree\n",
    "X_enc = pd.get_dummies(X, prefix_sep='.')\n",
    "feature_names = list(X_enc.columns)\n",
    "X_train_enc, X_test_enc, y_train, y_test = train_test_split(X_enc, y, test_size=0.20, random_state=seed)\n",
    "\n",
    "lr = LogisticRegression(random_state=seed, feature_names=feature_names, penalty='l1', solver='liblinear')\n",
    "lr.fit(X_train_enc, y_train)\n",
    "\n",
    "tree = ClassificationTree()\n",
    "tree.fit(X_train_enc, y_train)"
   ]
  },
  {
   "cell_type": "markdown",
   "metadata": {},
   "source": [
    "## Compare performance using the Dashboard"
   ]
  },
  {
   "cell_type": "code",
   "execution_count": null,
   "metadata": {
    "scrolled": false
   },
   "outputs": [],
   "source": [
    "lr_perf = ROC(lr.predict_proba).explain_perf(X_test_enc, y_test, name='Logistic Regression')\n",
    "tree_perf = ROC(tree.predict_proba).explain_perf(X_test_enc, y_test, name='Classification Tree')\n",
    "\n",
    "show(lr_perf)\n",
    "show(tree_perf)\n",
    "show(ebm_perf)"
   ]
  },
  {
   "cell_type": "markdown",
   "metadata": {},
   "source": [
    "## Glassbox: All of our models have global and local explanations"
   ]
  },
  {
   "cell_type": "code",
   "execution_count": null,
   "metadata": {
    "scrolled": false
   },
   "outputs": [],
   "source": [
    "lr_global = lr.explain_global(name='Logistic Regression')\n",
    "tree_global = tree.explain_global(name='Classification Tree')\n",
    "\n",
    "show(lr_global)\n",
    "show(tree_global)\n",
    "show(ebm_global)"
   ]
  },
  {
   "cell_type": "markdown",
   "metadata": {},
   "source": [
    "## Dashboard: look at everything at once"
   ]
  },
  {
   "cell_type": "code",
   "execution_count": null,
   "metadata": {
    "pycharm": {
     "name": "#%%\n"
    }
   },
   "outputs": [],
   "source": [
    "# Do everything in one shot with the InterpretML Dashboard by passing a list into show\n",
    "\n",
    "show([hist, lr_global, lr_perf, tree_global, tree_perf, ebm_global, ebm_perf], share_tables=True)"
   ]
  }
 ],
 "metadata": {
  "kernelspec": {
   "name": "python3",
   "display_name": "Python 3.7.9 64-bit",
   "metadata": {
    "interpreter": {
     "hash": "3842b5eb5216b4da67b6bce73de1b807a37c5e99bf85e724883ada4bdba014b9"
    }
   }
  },
  "language_info": {
   "codemirror_mode": {
    "name": "ipython",
    "version": 3
   },
   "file_extension": ".py",
   "mimetype": "text/x-python",
   "name": "python",
   "nbconvert_exporter": "python",
   "pygments_lexer": "ipython3",
   "version": "3.7.9-final"
  }
 },
 "nbformat": 4,
 "nbformat_minor": 2
}