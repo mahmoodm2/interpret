{
 "cells": [
  {
   "cell_type": "markdown",
   "metadata": {},
   "source": [
    "## Setup a classification experiment"
   ]
  },
  {
   "cell_type": "code",
   "execution_count": 1,
   "metadata": {},
   "outputs": [],
   "source": [
    "import pickle"
   ]
  },
  {
   "cell_type": "code",
   "execution_count": 2,
   "metadata": {},
   "outputs": [],
   "source": [
    "import numpy as np"
   ]
  },
  {
   "cell_type": "code",
   "execution_count": 32,
   "metadata": {},
   "outputs": [
    {
     "output_type": "execute_result",
     "data": {
      "text/plain": [
       "[0, 10, 33, 50, 66, 90, 100, 120]"
      ]
     },
     "metadata": {},
     "execution_count": 32
    }
   ],
   "source": [
    "m1 = [+1 , -1]\n",
    "edges1 =[10,50,100]\n",
    "\n",
    "m2 = [+2, -2, +2 , +3]\n",
    "edges2 =[0,33,66,90 , 120]\n",
    "# new_edges= list(sorted(set([edges1 , edges2])))\n",
    "# new_bin_edges =  list(sorted(set( [model.preprocessor_.bin_edges_[index] for model in models] ))) \n",
    "res = [2 ,1.5,-0.5,-1.5, 0.5, 1.0 , 3.0]\n",
    "new_edg = sorted(set().union(*[set(edges1) , set(edges2)]))\n",
    "new_edg\n",
    "ne1 = np.searchsorted(edges1, new_edg)\n",
    "ne2 = np.searchsorted(edges2, new_edg)\n",
    "\n",
    "new_edg"
   ]
  },
  {
   "cell_type": "code",
   "execution_count": 33,
   "metadata": {},
   "outputs": [
    {
     "output_type": "execute_result",
     "data": {
      "text/plain": [
       "(array([0, 0, 1, 1, 2, 2, 2, 3], dtype=int64),\n",
       " array([0, 1, 1, 2, 2, 3, 4, 4], dtype=int64))"
      ]
     },
     "metadata": {},
     "execution_count": 33
    }
   ],
   "source": [
    "np.searchsorted(edges1, new_edg), np.searchsorted(edges2, new_edg)"
   ]
  },
  {
   "cell_type": "code",
   "execution_count": 37,
   "metadata": {},
   "outputs": [],
   "source": [
    "models =[ m1 , m2]\n",
    "ne = [ np.searchsorted(edges1, new_edg) , np.searchsorted(edges2, new_edg)]"
   ]
  },
  {
   "cell_type": "code",
   "execution_count": 56,
   "metadata": {},
   "outputs": [
    {
     "output_type": "stream",
     "name": "stdout",
     "text": [
      "[0 1 1 2 2 2 3]\n[1 1 2 2 3 4 4]\n"
     ]
    },
    {
     "output_type": "execute_result",
     "data": {
      "text/plain": [
       "[[nan, 1, 1, -1, -1, -1, nan], [2, 2, -2, -2, 2, 3, 3]]"
      ]
     },
     "metadata": {},
     "execution_count": 56
    }
   ],
   "source": [
    "r =[]\n",
    "for idx, m in enumerate(models):\n",
    "    # for i in range(1, len(new_edge)):\n",
    "    print(ne[idx][1:])\n",
    "    r.append([ m[x-1] if x > 0 and x <=len(m) else np.nan for x in ne[idx][1:] ])\n",
    "r "
   ]
  },
  {
   "cell_type": "code",
   "execution_count": 51,
   "metadata": {},
   "outputs": [],
   "source": [
    "import scipy.stats.stats as st"
   ]
  },
  {
   "cell_type": "code",
   "execution_count": 57,
   "metadata": {},
   "outputs": [
    {
     "output_type": "execute_result",
     "data": {
      "text/plain": [
       "array([ 2. ,  1.5, -0.5, -1.5,  0.5,  1. ,  3. ])"
      ]
     },
     "metadata": {},
     "execution_count": 57
    }
   ],
   "source": [
    "a = [1,2,np.nan] \n",
    "np.nanmean(r, axis=0)\n"
   ]
  },
  {
   "cell_type": "code",
   "execution_count": 2,
   "metadata": {},
   "outputs": [],
   "source": [
    "import pandas as pd\n",
    "from sklearn.model_selection import train_test_split\n",
    "\n",
    "df = pd.read_csv(\n",
    "    \"https://archive.ics.uci.edu/ml/machine-learning-databases/adult/adult.data\",\n",
    "    header=None)\n",
    "df.columns = [\n",
    "    \"Age\", \"WorkClass\", \"fnlwgt\", \"Education\", \"EducationNum\",\n",
    "    \"MaritalStatus\", \"Occupation\", \"Relationship\", \"Race\", \"Gender\",\n",
    "    \"CapitalGain\", \"CapitalLoss\", \"HoursPerWeek\", \"NativeCountry\", \"Income\"\n",
    "]\n",
    "# df = df.sample(frac=0.1, random_state=1)\n",
    "train_cols = df.columns[0:-1]\n",
    "label = df.columns[-1]\n",
    "X = df[train_cols]\n",
    "y = df[label].apply(lambda x: 0 if x == \" <=50K\" else 1) #Turning response into 0 and 1\n",
    "\n",
    "seed = 1\n",
    "X_train, X_test, y_train, y_test = train_test_split(X, y, test_size=0.20, random_state=seed)"
   ]
  },
  {
   "cell_type": "markdown",
   "metadata": {},
   "source": [
    "## Explore the dataset"
   ]
  },
  {
   "cell_type": "code",
   "execution_count": 6,
   "metadata": {},
   "outputs": [],
   "source": [
    "from interpret import show\n",
    "from interpret.data import ClassHistogram\n",
    "\n",
    "hist = ClassHistogram().explain_data(X_train, y_train, name = 'Train Data')\n",
    "# show(hist)"
   ]
  },
  {
   "cell_type": "markdown",
   "metadata": {},
   "source": [
    "## Train the Explainable Boosting Machine (EBM)"
   ]
  },
  {
   "cell_type": "code",
   "execution_count": 4,
   "metadata": {},
   "outputs": [
    {
     "output_type": "execute_result",
     "data": {
      "text/plain": [
       "ExplainableBoostingClassifier(feature_names=['Age', 'WorkClass', 'fnlwgt',\n",
       "                                             'Education', 'EducationNum',\n",
       "                                             'MaritalStatus', 'Occupation',\n",
       "                                             'Relationship', 'Race', 'Gender',\n",
       "                                             'CapitalGain', 'CapitalLoss',\n",
       "                                             'HoursPerWeek', 'NativeCountry',\n",
       "                                             'Relationship x HoursPerWeek',\n",
       "                                             'Age x Relationship',\n",
       "                                             'MaritalStatus x HoursPerWeek',\n",
       "                                             'EducationNum x Occupation',\n",
       "                                             'fnlwgt x HoursPerWeek',\n",
       "                                             'Occupat...\n",
       "                              feature_types=['continuous', 'categorical',\n",
       "                                             'continuous', 'categorical',\n",
       "                                             'continuous', 'categorical',\n",
       "                                             'categorical', 'categorical',\n",
       "                                             'categorical', 'categorical',\n",
       "                                             'continuous', 'continuous',\n",
       "                                             'continuous', 'categorical',\n",
       "                                             'interaction', 'interaction',\n",
       "                                             'interaction', 'interaction',\n",
       "                                             'interaction', 'interaction',\n",
       "                                             'interaction', 'interaction',\n",
       "                                             'interaction', 'interaction'],\n",
       "                              n_jobs=-1, random_state=1)"
      ]
     },
     "metadata": {},
     "execution_count": 4
    }
   ],
   "source": [
    "from interpret.glassbox import ExplainableBoostingClassifier, LogisticRegression, ClassificationTree, DecisionListClassifier\n",
    "\n",
    "ebm = ExplainableBoostingClassifier(random_state=seed, n_jobs=-1)\n",
    "ebm.fit(X_train, y_train)   #Works on dataframes and numpy arrays"
   ]
  },
  {
   "cell_type": "code",
   "execution_count": 28,
   "metadata": {},
   "outputs": [
    {
     "output_type": "execute_result",
     "data": {
      "text/plain": [
       "ExplainableBoostingClassifier(feature_names=['Age', 'WorkClass', 'fnlwgt',\n",
       "                                             'Education', 'EducationNum',\n",
       "                                             'MaritalStatus', 'Occupation',\n",
       "                                             'Relationship', 'Race', 'Gender',\n",
       "                                             'CapitalGain', 'CapitalLoss',\n",
       "                                             'HoursPerWeek', 'NativeCountry',\n",
       "                                             'Age x Relationship',\n",
       "                                             'Relationship x HoursPerWeek',\n",
       "                                             'Relationship x CapitalLoss',\n",
       "                                             'WorkClass x Race',\n",
       "                                             'Age x HoursPerWeek',\n",
       "                                             'EducationNum x Occupati...\n",
       "                              feature_types=['continuous', 'categorical',\n",
       "                                             'continuous', 'categorical',\n",
       "                                             'continuous', 'categorical',\n",
       "                                             'categorical', 'categorical',\n",
       "                                             'categorical', 'categorical',\n",
       "                                             'continuous', 'continuous',\n",
       "                                             'continuous', 'categorical',\n",
       "                                             'interaction', 'interaction',\n",
       "                                             'interaction', 'interaction',\n",
       "                                             'interaction', 'interaction',\n",
       "                                             'interaction', 'interaction',\n",
       "                                             'interaction', 'interaction'],\n",
       "                              n_jobs=-1, random_state=21)"
      ]
     },
     "metadata": {},
     "execution_count": 28
    }
   ],
   "source": [
    "seed =1\n",
    "X_train, X_test, y_train, y_test = train_test_split(X, y, test_size=0.20, random_state=seed)\n",
    "ebm1 = ExplainableBoostingClassifier(random_state=seed, n_jobs=-1)\n",
    "ebm1.fit(X_train, y_train)  \n",
    "\n",
    "seed +=10\n",
    "X_train, X_test, y_train, y_test = train_test_split(X, y, test_size=0.20, random_state=seed)\n",
    "ebm2 = ExplainableBoostingClassifier(random_state=seed, n_jobs=-1)\n",
    "ebm2.fit(X_train, y_train)  \n",
    "\n",
    "\n",
    "seed +=10\n",
    "X_train, X_test, y_train, y_test = train_test_split(X, y, test_size=0.20, random_state=seed)\n",
    "ebm3 = ExplainableBoostingClassifier(random_state=seed, n_jobs=-1)\n",
    "ebm3.fit(X_train, y_train)  \n",
    "\n"
   ]
  },
  {
   "cell_type": "code",
   "execution_count": 29,
   "metadata": {},
   "outputs": [],
   "source": [
    "pickle.dump(ebm1,open(\"D:\\\\Projects\\\\interpret\\\\examples\\\\python\\\\notebooks\\\\ebm1.pickle\", 'wb'))\n",
    "pickle.dump(ebm2,open(\"D:\\\\Projects\\\\interpret\\\\examples\\\\python\\\\notebooks\\\\ebm2.pickle\", 'wb'))\n",
    "pickle.dump(ebm3,open(\"D:\\\\Projects\\\\interpret\\\\examples\\\\python\\\\notebooks\\\\ebm3.pickle\", 'wb'))"
   ]
  },
  {
   "cell_type": "code",
   "execution_count": 30,
   "metadata": {},
   "outputs": [],
   "source": [
    "ebm1 = pickle.load(open(\"D:\\\\Projects\\\\interpret\\\\examples\\\\python\\\\notebooks\\\\ebm1.pickle\" ,'rb'))\n",
    "ebm2 = pickle.load(open(\"D:\\\\Projects\\\\interpret\\\\examples\\\\python\\\\notebooks\\\\ebm2.pickle\" ,'rb'))\n",
    "ebm3 = pickle.load(open(\"D:\\\\Projects\\\\interpret\\\\examples\\\\python\\\\notebooks\\\\ebm3.pickle\" ,'rb'))\n"
   ]
  },
  {
   "cell_type": "code",
   "execution_count": 70,
   "metadata": {},
   "outputs": [
    {
     "output_type": "execute_result",
     "data": {
      "text/plain": [
       "['Age',\n",
       " 'WorkClass',\n",
       " 'fnlwgt',\n",
       " 'Education',\n",
       " 'EducationNum',\n",
       " 'MaritalStatus',\n",
       " 'Occupation',\n",
       " 'Relationship',\n",
       " 'Race',\n",
       " 'Gender',\n",
       " 'CapitalGain',\n",
       " 'CapitalLoss',\n",
       " 'HoursPerWeek',\n",
       " 'NativeCountry',\n",
       " 'Relationship x HoursPerWeek',\n",
       " 'Age x Relationship',\n",
       " 'MaritalStatus x HoursPerWeek',\n",
       " 'EducationNum x MaritalStatus',\n",
       " 'Age x CapitalLoss',\n",
       " 'Age x HoursPerWeek',\n",
       " 'Age x WorkClass',\n",
       " 'WorkClass x Race',\n",
       " 'Relationship x CapitalLoss',\n",
       " 'Occupation x Relationship']"
      ]
     },
     "metadata": {},
     "execution_count": 70
    }
   ],
   "source": [
    "ebm2.feature_names"
   ]
  },
  {
   "cell_type": "code",
   "execution_count": 76,
   "metadata": {},
   "outputs": [
    {
     "output_type": "execute_result",
     "data": {
      "text/plain": [
       "(array([  0, 317, 438, 568, 606, 575, 613, 697, 641, 669, 617, 672, 699,\n",
       "        657, 684, 736, 659, 703, 696, 702, 719, 688, 663, 656, 643, 660,\n",
       "        621, 604, 579, 574, 595, 561, 430, 460, 485, 485, 374, 373, 321,\n",
       "        338, 289, 282, 297, 288, 254, 241, 199, 191, 170, 133, 111, 127,\n",
       "         97,  84,  75,  55,  52,  51,  39,  37,  36,  25,  19,  37,  25,\n",
       "         21,  35], dtype=int64),\n",
       " array([  0, 303, 445, 558, 607, 579, 618, 683, 644, 676, 606, 665, 705,\n",
       "        639, 700, 704, 652, 714, 701, 708, 717, 677, 645, 640, 640, 630,\n",
       "        631, 615, 583, 586, 599, 578, 434, 480, 492, 483, 384, 372, 340,\n",
       "        333, 303, 286, 293, 294, 243, 235, 212, 183, 175, 144, 117, 117,\n",
       "        102,  91,  72,  62,  48,  52,  31,  32,  35,  22,  20,  35,  23,\n",
       "         18,  37], dtype=int64))"
      ]
     },
     "metadata": {},
     "execution_count": 76
    }
   ],
   "source": [
    "ebm1.preprocessor_.col_bin_counts_[0] , ebm2.preprocessor_.col_bin_counts_[0]"
   ]
  },
  {
   "cell_type": "code",
   "execution_count": 95,
   "metadata": {},
   "outputs": [
    {
     "output_type": "execute_result",
     "data": {
      "text/plain": [
       "array([  0, 317, 438, 568, 606, 575, 613, 697, 641, 669, 617, 672, 699,\n",
       "       657, 684, 736, 659, 703, 696, 702, 719, 688, 663, 656, 643, 660,\n",
       "       621, 604, 579, 574, 595, 561, 430, 460, 485, 485, 374, 373, 321,\n",
       "       338, 289, 282, 297, 288, 254, 241, 199, 191, 170, 133, 111, 127,\n",
       "        97,  84,  75,  55,  52,  51,  39,  37,  36,  25,  19,  37,  25,\n",
       "        21,  35], dtype=int64)"
      ]
     },
     "metadata": {},
     "execution_count": 95
    }
   ],
   "source": [
    "(ebm1.preprocessor_.col_bin_counts_[0])"
   ]
  },
  {
   "cell_type": "code",
   "execution_count": 133,
   "metadata": {},
   "outputs": [
    {
     "output_type": "stream",
     "name": "stdout",
     "text": [
      "0 65\n2 254\n4 15\n10 75\n11 58\n12 76\n"
     ]
    }
   ],
   "source": [
    "for index,_ in enumerate(ebm1.feature_groups_):\n",
    "    if index in ebm1.preprocessor_.col_bin_edges_.keys():\n",
    "        print(index, len(ebm1.preprocessor_.col_bin_edges_[index]))"
   ]
  },
  {
   "cell_type": "code",
   "execution_count": 137,
   "metadata": {},
   "outputs": [
    {
     "output_type": "stream",
     "name": "stdout",
     "text": [
      "--------- 0\n65\n65\n64\n --> 65\n--------- 2\n254\n254\n254\n --> 751\n--------- 4\n15\n15\n15\n --> 15\n--------- 10\n75\n77\n76\n --> 85\n--------- 11\n58\n57\n59\n --> 74\n--------- 12\n76\n75\n73\n --> 77\n"
     ]
    }
   ],
   "source": [
    "# ebm2.preprocessor_.col_bin_edges_[ebm1.feature_groups_[0]]\n",
    "models=[ebm1, ebm2, ebm3]\n",
    "ebm = ebm1\n",
    "for index, _ in enumerate(ebm.feature_groups_):\n",
    "\n",
    "    log_odds_tensors = []\n",
    "\n",
    "    # Normalzing the bin edges for different models for each feature group\n",
    "    if index in ebm.preprocessor_.col_bin_edges_.keys():\n",
    "\n",
    "        print('---------', index) #, len(ebm1.preprocessor_.col_bin_edges_[index]))\n",
    "        new_bin_edges = ebm.preprocessor_.col_bin_edges_[index]\n",
    "\n",
    "        # list(ebm1.preprocessor_.col_bin_edges_.keys())[0]\n",
    "        for model in models:\n",
    "            print(len(model.preprocessor_.col_bin_edges_[index]))\n",
    "            new_bin_edges = set(new_bin_edges).union(set(model.preprocessor_.col_bin_edges_[index]))\n",
    "\n",
    "        print(' -->' ,len(new_bin_edges))"
   ]
  },
  {
   "cell_type": "code",
   "execution_count": 138,
   "metadata": {},
   "outputs": [],
   "source": [
    "from interpret.glassbox.ebm.utils import *"
   ]
  },
  {
   "cell_type": "code",
   "execution_count": null,
   "metadata": {},
   "outputs": [],
   "source": [
    "EBMUtils.merge_models(models)"
   ]
  },
  {
   "cell_type": "code",
   "execution_count": 104,
   "metadata": {},
   "outputs": [
    {
     "output_type": "execute_result",
     "data": {
      "text/plain": [
       "506"
      ]
     },
     "metadata": {},
     "execution_count": 104
    }
   ],
   "source": [
    "len(set(ebm2.preprocessor_.col_bin_edges_[2]).union(set((ebm1.preprocessor_.col_bin_edges_[2]))))"
   ]
  },
  {
   "cell_type": "code",
   "execution_count": 79,
   "metadata": {},
   "outputs": [
    {
     "output_type": "execute_result",
     "data": {
      "text/plain": [
       "{0: array([17.5, 18.5, 19.5, 20.5, 21.5, 22.5, 23.5, 24.5, 25.5, 26.5, 27.5,\n",
       "        28.5, 29.5, 30.5, 31.5, 32.5, 33.5, 34.5, 35.5, 36.5, 37.5, 38.5,\n",
       "        39.5, 40.5, 41.5, 42.5, 43.5, 44.5, 45.5, 46.5, 47.5, 48.5, 49.5,\n",
       "        50.5, 51.5, 52.5, 53.5, 54.5, 55.5, 56.5, 57.5, 58.5, 59.5, 60.5,\n",
       "        61.5, 62.5, 63.5, 64.5, 65.5, 66.5, 67.5, 68.5, 69.5, 70.5, 71.5,\n",
       "        72.5, 73.5, 74.5, 75.5, 76.5, 77.5, 78.5, 80.5, 82.5, 89. ]),\n",
       " 2: array([ 23562.5,  25943.5,  27778. ,  29440.5,  30570. ,  31748.5,\n",
       "         32866.5,  33794.5,  34573. ,  35662.5,  37050. ,  38311. ,\n",
       "         39652.5,  41877.5,  43979.5,  46392.5,  48290.5,  50249.5,\n",
       "         52141. ,  53717. ,  55392.5,  57277.5,  59539.5,  62040. ,\n",
       "         65009. ,  67220. ,  69552. ,  71717. ,  73802.5,  76330.5,\n",
       "         78258. ,  80456. ,  82429. ,  83752. ,  85598.5,  87531.5,\n",
       "         89448. ,  91220. ,  93208.5,  95159. ,  96455.5,  97806. ,\n",
       "         98767. ,  99477. , 100809. , 101745.5, 102606.5, 103465. ,\n",
       "        104392. , 105469. , 106637.5, 107414. , 108376. , 109256.5,\n",
       "        110295. , 111271.5, 112148.5, 112935. , 113788. , 114712. ,\n",
       "        115550. , 116491. , 117224.5, 117790. , 118698.5, 119672. ,\n",
       "        120513. , 121515.5, 122621. , 123692. , 124822.5, 125790. ,\n",
       "        126676. , 127845.5, 129182.5, 130522.5, 131826.5, 133060.5,\n",
       "        134116.5, 135510. , 136991.5, 137951.5, 138964. , 140100. ,\n",
       "        141326.5, 142527. , 143484. , 144469. , 145414. , 146569.5,\n",
       "        147592.5, 148595. , 149638.5, 150522. , 151676.5, 152722.5,\n",
       "        153550. , 154569.5, 155499. , 156596.5, 157613. , 158748.5,\n",
       "        159729. , 160383.5, 161171. , 162237. , 163030. , 163892. ,\n",
       "        164828. , 165744. , 166630. , 167479. , 168193. , 169002.5,\n",
       "        169691. , 170327.5, 171331.5, 172348.5, 173251.5, 174047. ,\n",
       "        174600. , 175211.5, 175783.5, 176282.5, 176927.5, 177572. ,\n",
       "        178342.5, 179266.5, 180203. , 181089. , 181821. , 182495.5,\n",
       "        183107.5, 183801.5, 184548. , 185102.5, 185817.5, 186681. ,\n",
       "        187301.5, 187910. , 188517. , 189194.5, 189836. , 190389. ,\n",
       "        191001.5, 191692. , 192370.5, 192983.5, 193571.5, 194291.5,\n",
       "        195011.5, 195768.5, 196597. , 197420. , 198176.5, 198852. ,\n",
       "        199590.5, 200447.5, 201177.5, 201999.5, 202817. , 203490. ,\n",
       "        204383. , 205302.5, 206127. , 207138.5, 208087. , 209079. ,\n",
       "        209938. , 210952. , 211958. , 212957. , 213976. , 214987. ,\n",
       "        216131.5, 216939. , 218310. , 219578. , 220779.5, 222152. ,\n",
       "        223440. , 224669. , 225898. , 227116. , 228351.5, 229972. ,\n",
       "        231194.5, 232840.5, 234453.5, 235892.5, 236992.5, 238666.5,\n",
       "        240171. , 241890. , 243439. , 245118.5, 247096.5, 248723.5,\n",
       "        250538.5, 252439.5, 254426. , 256268.5, 258111. , 260379. ,\n",
       "        262540.5, 265084.5, 267042. , 269052.5, 271569.5, 273810.5,\n",
       "        276279. , 278599. , 280963. , 283274.5, 285371.5, 287853. ,\n",
       "        290276.5, 293074.5, 296087.5, 298837.5, 302134. , 305281.5,\n",
       "        308097.5, 311102. , 314179.5, 316834.5, 320285.5, 323781.5,\n",
       "        327448.5, 330705. , 334299.5, 337679.5, 340882.5, 343594. ,\n",
       "        346563. , 349904. , 353904. , 358090. , 362955.5, 369070.5,\n",
       "        374489. , 379296. , 386374. , 392305.5, 400789. , 407643.5,\n",
       "        415015.5, 424921.5, 437696.5, 452244. , 469587. , 496454. ,\n",
       "        542646.5, 608986.5]),\n",
       " 4: array([ 1.5,  2.5,  3.5,  4.5,  5.5,  6.5,  7.5,  8.5,  9.5, 10.5, 11.5,\n",
       "        12.5, 13.5, 14.5, 15.5]),\n",
       " 10: array([5.70000e+01, 4.97500e+02, 7.54000e+02, 1.02300e+03, 1.07050e+03,\n",
       "        1.29100e+03, 1.48850e+03, 1.65150e+03, 1.83950e+03, 2.04300e+03,\n",
       "        2.13950e+03, 2.17500e+03, 2.18900e+03, 2.21500e+03, 2.30950e+03,\n",
       "        2.35000e+03, 2.39700e+03, 2.41050e+03, 2.43850e+03, 2.50050e+03,\n",
       "        2.58850e+03, 2.61600e+03, 2.74100e+03, 2.85700e+03, 2.89600e+03,\n",
       "        2.96250e+03, 3.04800e+03, 3.12000e+03, 3.20500e+03, 3.29900e+03,\n",
       "        3.36800e+03, 3.41450e+03, 3.46000e+03, 3.46750e+03, 3.57250e+03,\n",
       "        3.72750e+03, 3.79950e+03, 3.89750e+03, 3.92500e+03, 4.00300e+03,\n",
       "        4.08250e+03, 4.24350e+03, 4.40100e+03, 4.57900e+03, 4.66850e+03,\n",
       "        4.73700e+03, 4.82600e+03, 4.89800e+03, 4.97350e+03, 5.03650e+03,\n",
       "        5.11900e+03, 5.31650e+03, 5.63850e+03, 6.45750e+03, 6.80800e+03,\n",
       "        7.07350e+03, 7.36400e+03, 7.43650e+03, 7.56550e+03, 7.79200e+03,\n",
       "        8.29600e+03, 9.00000e+03, 1.00410e+04, 1.05430e+04, 1.26140e+04,\n",
       "        1.38170e+04, 1.42140e+04, 1.46820e+04, 1.50220e+04, 1.54275e+04,\n",
       "        1.92660e+04, 2.10455e+04, 2.65320e+04, 3.09615e+04, 7.06545e+04]),\n",
       " 11: array([ 106.5,  639. , 1033. , 1115. , 1299. , 1394. , 1448. , 1494.5,\n",
       "        1551.5, 1568.5, 1576. , 1584.5, 1592. , 1598. , 1609.5, 1622.5,\n",
       "        1638. , 1668.5, 1670.5, 1695.5, 1720. , 1737.5, 1740.5, 1748. ,\n",
       "        1789. , 1836.5, 1862. , 1881.5, 1894.5, 1923. , 1959. , 1975.5,\n",
       "        1978.5, 1990.5, 2001.5, 2022. , 2046.5, 2054. , 2068.5, 2156. ,\n",
       "        2176.5, 2192. , 2205.5, 2234.5, 2252. , 2262.5, 2303. , 2345.5,\n",
       "        2364.5, 2384.5, 2403.5, 2429.5, 2450.5, 2480.5, 2553. , 2581. ,\n",
       "        2789. , 2914. ]),\n",
       " 12: array([ 2.5,  3.5,  4.5,  5.5,  6.5,  7.5,  8.5,  9.5, 10.5, 11.5, 12.5,\n",
       "        13.5, 14.5, 15.5, 16.5, 17.5, 18.5, 19.5, 20.5, 21.5, 22.5, 23.5,\n",
       "        24.5, 25.5, 27.5, 28.5, 29.5, 30.5, 31.5, 32.5, 33.5, 34.5, 35.5,\n",
       "        36.5, 37.5, 38.5, 39.5, 40.5, 41.5, 42.5, 43.5, 44.5, 45.5, 46.5,\n",
       "        47.5, 48.5, 49.5, 50.5, 51.5, 52.5, 53.5, 54.5, 55.5, 56.5, 59.5,\n",
       "        60.5, 61.5, 62.5, 63.5, 64.5, 65.5, 66.5, 69. , 71. , 72.5, 74.5,\n",
       "        75.5, 79. , 80.5, 82.5, 84.5, 85.5, 89.5, 90.5, 96.5, 98.5])}"
      ]
     },
     "metadata": {},
     "execution_count": 79
    }
   ],
   "source": [
    "ebm1.preprocessor_.col_bin_edges_"
   ]
  },
  {
   "cell_type": "markdown",
   "metadata": {},
   "source": [
    "## Global Explanations: What the model learned overall"
   ]
  },
  {
   "cell_type": "code",
   "execution_count": 5,
   "metadata": {},
   "outputs": [
    {
     "output_type": "display_data",
     "data": {
      "text/html": "<!-- http://127.0.0.1:7001/2793533953672/ -->\n<iframe src=\"http://127.0.0.1:7001/2793533953672/\" width=100% height=800 frameBorder=\"0\"></iframe>"
     },
     "metadata": {}
    }
   ],
   "source": [
    "ebm_global = ebm.explain_global(name='EBM')\n",
    "show(ebm_global)"
   ]
  },
  {
   "cell_type": "markdown",
   "metadata": {},
   "source": [
    "## Local Explanations: How an individual prediction was made"
   ]
  },
  {
   "cell_type": "code",
   "execution_count": null,
   "metadata": {},
   "outputs": [],
   "source": [
    "ebm_local = ebm.explain_local(X_test[:5], y_test[:5], name='EBM')\n",
    "show(ebm_local)"
   ]
  },
  {
   "cell_type": "markdown",
   "metadata": {},
   "source": [
    "## Evaluate EBM performance"
   ]
  },
  {
   "cell_type": "code",
   "execution_count": null,
   "metadata": {
    "scrolled": false
   },
   "outputs": [],
   "source": [
    "from interpret.perf import ROC\n",
    "\n",
    "ebm_perf = ROC(ebm.predict_proba).explain_perf(X_test, y_test, name='EBM')\n",
    "show(ebm_perf)"
   ]
  },
  {
   "cell_type": "markdown",
   "metadata": {},
   "source": [
    "## Let's test out a few other Explainable Models"
   ]
  },
  {
   "cell_type": "code",
   "execution_count": null,
   "metadata": {
    "scrolled": true
   },
   "outputs": [],
   "source": [
    "from interpret.glassbox import LogisticRegression, ClassificationTree\n",
    "\n",
    "# We have to transform categorical variables to use Logistic Regression and Decision Tree\n",
    "X_enc = pd.get_dummies(X, prefix_sep='.')\n",
    "feature_names = list(X_enc.columns)\n",
    "X_train_enc, X_test_enc, y_train, y_test = train_test_split(X_enc, y, test_size=0.20, random_state=seed)\n",
    "\n",
    "lr = LogisticRegression(random_state=seed, feature_names=feature_names, penalty='l1', solver='liblinear')\n",
    "lr.fit(X_train_enc, y_train)\n",
    "\n",
    "tree = ClassificationTree()\n",
    "tree.fit(X_train_enc, y_train)"
   ]
  },
  {
   "cell_type": "markdown",
   "metadata": {},
   "source": [
    "## Compare performance using the Dashboard"
   ]
  },
  {
   "cell_type": "code",
   "execution_count": null,
   "metadata": {
    "scrolled": false
   },
   "outputs": [],
   "source": [
    "lr_perf = ROC(lr.predict_proba).explain_perf(X_test_enc, y_test, name='Logistic Regression')\n",
    "tree_perf = ROC(tree.predict_proba).explain_perf(X_test_enc, y_test, name='Classification Tree')\n",
    "\n",
    "show(lr_perf)\n",
    "show(tree_perf)\n",
    "show(ebm_perf)"
   ]
  },
  {
   "cell_type": "markdown",
   "metadata": {},
   "source": [
    "## Glassbox: All of our models have global and local explanations"
   ]
  },
  {
   "cell_type": "code",
   "execution_count": null,
   "metadata": {
    "scrolled": false
   },
   "outputs": [],
   "source": [
    "lr_global = lr.explain_global(name='Logistic Regression')\n",
    "tree_global = tree.explain_global(name='Classification Tree')\n",
    "\n",
    "show(lr_global)\n",
    "show(tree_global)\n",
    "show(ebm_global)"
   ]
  },
  {
   "cell_type": "markdown",
   "metadata": {},
   "source": [
    "## Dashboard: look at everything at once"
   ]
  },
  {
   "cell_type": "code",
   "execution_count": null,
   "metadata": {
    "pycharm": {
     "name": "#%%\n"
    }
   },
   "outputs": [],
   "source": [
    "# Do everything in one shot with the InterpretML Dashboard by passing a list into show\n",
    "\n",
    "show([hist, lr_global, lr_perf, tree_global, tree_perf, ebm_global, ebm_perf], share_tables=True)"
   ]
  }
 ],
 "metadata": {
  "kernelspec": {
   "name": "python3",
   "display_name": "Python 3.7.9 64-bit ('interpret-dev': conda)",
   "metadata": {
    "interpreter": {
     "hash": "3842b5eb5216b4da67b6bce73de1b807a37c5e99bf85e724883ada4bdba014b9"
    }
   }
  },
  "language_info": {
   "codemirror_mode": {
    "name": "ipython",
    "version": 3
   },
   "file_extension": ".py",
   "mimetype": "text/x-python",
   "name": "python",
   "nbconvert_exporter": "python",
   "pygments_lexer": "ipython3",
   "version": "3.7.9-final"
  }
 },
 "nbformat": 4,
 "nbformat_minor": 2
}